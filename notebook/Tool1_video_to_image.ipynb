{
 "cells": [
  {
   "cell_type": "code",
   "execution_count": 9,
   "metadata": {},
   "outputs": [],
   "source": [
    "import os\n",
    "path = labelme_path+\"20230111_Plate493\"\n",
    "folder = os.listdir(path)\n",
    "folder = list(folder)"
   ]
  },
  {
   "cell_type": "code",
   "execution_count": 16,
   "metadata": {},
   "outputs": [
    {
     "data": {
      "text/plain": [
       "['20230111_Plate493_Pos02',\n",
       " '20230111_Plate493_Pos03',\n",
       " '20230111_Plate493_Pos04',\n",
       " '20230111_Plate493_Pos05',\n",
       " '20230111_Plate493_Pos06',\n",
       " '20230111_Plate493_Pos07',\n",
       " '20230111_Plate493_Pos08',\n",
       " '20230111_Plate493_Pos09',\n",
       " '20230111_Plate493_Pos10',\n",
       " '20230111_Plate493_Pos11',\n",
       " '20230111_Plate493_Pos12',\n",
       " '20230111_Plate493_Pos13',\n",
       " '20230111_Plate493_Pos14',\n",
       " '20230111_Plate493_Pos15',\n",
       " '20230111_Plate493_Pos16',\n",
       " '20230111_Plate493_Pos17',\n",
       " '20230111_Plate493_Pos18',\n",
       " '20230111_Plate493_Pos19',\n",
       " '20230111_Plate493_Pos20',\n",
       " '20230111_Plate493_Pos21',\n",
       " '20230111_Plate493_Pos22',\n",
       " '20230111_Plate493_Pos23',\n",
       " '20230111_Plate493_Pos24',\n",
       " '20230111_Plate493_Pos25',\n",
       " '20230111_Plate493_Pos26',\n",
       " '20230111_Plate493_Pos27',\n",
       " '20230111_Plate493_Pos28',\n",
       " '20230111_Plate493_Pos29',\n",
       " '20230111_Plate493_Pos30',\n",
       " '20230111_Plate493_Pos31',\n",
       " '20230111_Plate493_Pos32',\n",
       " '20230111_Plate493_Pos33',\n",
       " '20230111_Plate493_Pos34',\n",
       " '20230111_Plate493_Pos35',\n",
       " '20230111_Plate493_Pos36',\n",
       " '20230111_Plate493_Pos37',\n",
       " '20230111_Plate493_Pos38',\n",
       " '20230111_Plate493_Pos39',\n",
       " '20230111_Plate493_Pos40',\n",
       " '20230111_Plate493_Pos41',\n",
       " '20230111_Plate493_Pos42',\n",
       " '20230111_Plate493_Pos43',\n",
       " '20230111_Plate493_Pos44',\n",
       " '20230111_Plate493_Pos45',\n",
       " '20230111_Plate493_Pos46',\n",
       " '20230111_Plate493_Pos47',\n",
       " '20230111_Plate493_Pos48',\n",
       " '20230111_Plate493_Pos49',\n",
       " '20230111_Plate493_Pos50',\n",
       " '20230111_Plate493_Pos51',\n",
       " '20230111_Plate493_Pos52',\n",
       " '20230111_Plate493_Pos53',\n",
       " '20230111_Plate493_Pos54',\n",
       " '20230111_Plate493_Pos55',\n",
       " '20230111_Plate493_Pos56',\n",
       " '20230111_Plate493_Pos57',\n",
       " '20230111_Plate493_Pos58',\n",
       " '20230111_Plate493_Pos59',\n",
       " '20230111_Plate493_Pos60',\n",
       " '20230111_Plate493_Pos61',\n",
       " '20230111_Plate493_Pos62',\n",
       " '20230111_Plate493_Pos63',\n",
       " '20230111_Plate493_Pos64',\n",
       " '20230111_Plate493_Pos65',\n",
       " '20230111_Plate493_Pos66',\n",
       " '20230111_Plate493_Pos67',\n",
       " '20230111_Plate493_Pos68',\n",
       " '20230111_Plate493_Pos69',\n",
       " '20230111_Plate493_Pos70',\n",
       " '20230111_Plate493_Pos71',\n",
       " '20230111_Plate493_Pos72',\n",
       " '20230111_Plate493_Pos73',\n",
       " '20230111_Plate493_Pos74']"
      ]
     },
     "execution_count": 16,
     "metadata": {},
     "output_type": "execute_result"
    }
   ],
   "source": [
    "folder.sort()\n",
    "for i in folder[2:-3]:\n",
    "    folder_path = os.path.join(path,i)\n",
    "    file_path = list(os.listdir(folder_path))\n",
    "    for j in file_path[1:]:\n",
    "        remove_path = os.path.join(folder_path,j)\n",
    "        os.remove(remove_path)"
   ]
  },
  {
   "cell_type": "code",
   "execution_count": 27,
   "metadata": {},
   "outputs": [],
   "source": [
    "for i in folder[2:-3]:\n",
    "    folder_path = os.path.join(path,i)\n",
    "    file_path = list(os.listdir(folder_path))\n",
    "    for j in file_path[1:]:\n",
    "        remove_path = os.path.join(folder_path,j)\n",
    "        os.remove(remove_path)"
   ]
  },
  {
   "cell_type": "code",
   "execution_count": null,
   "metadata": {},
   "outputs": [],
   "source": []
  }
 ],
 "metadata": {
  "interpreter": {
   "hash": "214a3eeaf7ef3e98d70cb621f7d8f2dcbc65ad0a8fe4cd97d693f98a2f8c11fc"
  },
  "kernelspec": {
   "display_name": "Python 3 (ipykernel)",
   "language": "python",
   "name": "python3"
  },
  "language_info": {
   "codemirror_mode": {
    "name": "ipython",
    "version": 3
   },
   "file_extension": ".py",
   "mimetype": "text/x-python",
   "name": "python",
   "nbconvert_exporter": "python",
   "pygments_lexer": "ipython3",
   "version": "3.7.3"
  }
 },
 "nbformat": 4,
 "nbformat_minor": 4
}
