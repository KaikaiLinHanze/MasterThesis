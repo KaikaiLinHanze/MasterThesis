{
 "cells": [
  {
   "cell_type": "markdown",
   "id": "cd19303f-293a-4054-8812-a11229e5e38c",
   "metadata": {},
   "source": [
    "# Import the module"
   ]
  },
  {
   "cell_type": "code",
   "execution_count": 1,
   "id": "f12df1d4-26e9-4648-8c0c-6dee94fdd7f0",
   "metadata": {},
   "outputs": [],
   "source": [
    "import tensorflow as tf\n",
    "import sys, imageio, os\n",
    "import keras\n",
    "sys.path.append(\"/Users/kai/Downloads/graduation/final_git/MasterThesis/src/\")\n",
    "from config import *\n",
    "from model import *\n",
    "from data_prepare import *"
   ]
  },
  {
   "cell_type": "code",
   "execution_count": null,
   "id": "232218c0-0369-4db6-a656-467a715cf3ae",
   "metadata": {},
   "outputs": [],
   "source": [
    "X, y = data(\"20221116_Plate21\")\n",
    "X_train_new, X_test_new, y_train_new, y_test_new = train_test_split(X, y, test_size=0.3, random_state=42,shuffle=True)\n",
    "X_train,y_train = data(\"varying_lum_and_focus_train\")\n",
    "X_test,y_test = data(\"varying_lum_and_focus_test\")"
   ]
  }
 ],
 "metadata": {
  "kernelspec": {
   "display_name": "Python 3.10.6 ('project')",
   "language": "python",
   "name": "python3106jvsc74a57bd05ac19eb75bcf261162520ccd9d5579982c8e385c27a8a3014d1ae342162dd190"
  },
  "language_info": {
   "codemirror_mode": {
    "name": "ipython",
    "version": 3
   },
   "file_extension": ".py",
   "mimetype": "text/x-python",
   "name": "python",
   "nbconvert_exporter": "python",
   "pygments_lexer": "ipython3",
   "version": "3.10.6"
  }
 },
 "nbformat": 4,
 "nbformat_minor": 5
}
