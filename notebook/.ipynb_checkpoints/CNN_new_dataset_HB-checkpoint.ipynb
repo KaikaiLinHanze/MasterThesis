{
 "cells": [
  {
   "cell_type": "code",
   "execution_count": 42,
   "id": "5f404e5e-f116-4288-befe-fbcc0696e559",
   "metadata": {},
   "outputs": [],
   "source": [
    "import tensorflow as tf\n",
    "import sys, imageio, os\n",
    "sys.path.append(\"/home/ipausers/lin/Desktop/Graduation/Kai/Graduation-Project\")\n",
    "from models.model import *\n",
    "from models.data_prepare import *\n",
    "import keras"
   ]
  },
  {
   "cell_type": "code",
   "execution_count": 43,
   "id": "7cfca630-a299-4af5-a82e-7d2b334e2111",
   "metadata": {},
   "outputs": [],
   "source": [
    "# from amftrack.util.sys import storage_path\n",
    "def data(select_path):\n",
    "    storage_path = \"/home/ipausers/lin/Desktop/Graduation/Kai/Graduation-Project/datasets\"\n",
    "    path = os.path.join(storage_path,select_path)\n",
    "    im_path = os.path.join(path, \"slices.png\")\n",
    "    label_path = os.path.join(path, \"labels.npy\")\n",
    "    im = imageio.imread(im_path)\n",
    "    with open(label_path, \"rb\") as f:\n",
    "        label = np.load(f)\n",
    "    label = np.expand_dims(label,1)\n",
    "    return im, label"
   ]
  },
  {
   "cell_type": "code",
   "execution_count": 44,
   "id": "de0e5e8b-4996-48ef-802f-f0416778566a",
   "metadata": {},
   "outputs": [],
   "source": [
    "X, y = data(\"vary_width\")\n",
    "X_train_new, X_test_new, y_train_new, y_test_new = train_test_split(X, y, test_size=0.3, random_state=42,shuffle=True)"
   ]
  },
  {
   "cell_type": "code",
   "execution_count": 45,
   "id": "5ab2450f-0912-4d73-a1e1-99810a566547",
   "metadata": {},
   "outputs": [],
   "source": [
    "X_train,y_train = data(\"varying_lum_and_focus_train\")\n",
    "X_test,y_test = data(\"varying_lum_and_focus_test\")"
   ]
  },
  {
   "cell_type": "code",
   "execution_count": 46,
   "id": "17533b7f-af02-4908-a241-0e7a5dca1054",
   "metadata": {},
   "outputs": [
    {
     "data": {
      "text/plain": [
       "((1632, 120), (1632, 1), (687, 120), (687, 1))"
      ]
     },
     "execution_count": 46,
     "metadata": {},
     "output_type": "execute_result"
    }
   ],
   "source": [
    "X_train_combine = np.concatenate([X_train,X_train_new], axis=0)\n",
    "y_train_combine = np.concatenate([y_train,y_train_new], axis=0)\n",
    "X_test_combine  = np.concatenate([X_test,X_test_new], axis=0)\n",
    "y_test_combine = np.concatenate([y_test,y_test_new], axis=0)\n",
    "X_train_combine.shape,y_train_combine.shape,X_test_combine.shape,y_test_combine.shape"
   ]
  },
  {
   "cell_type": "code",
   "execution_count": 47,
   "id": "6164a1c9-2a46-475a-8929-851b6726d9a7",
   "metadata": {},
   "outputs": [
    {
     "data": {
      "image/png": "[encoded data removed]",
      "text/plain": [
       "<Figure size 432x288 with 1 Axes>"
      ]
     },
     "metadata": {
      "needs_background": "light"
     },
     "output_type": "display_data"
    }
   ],
   "source": [
    "plt.hist(y_train_combine,label=\"Train\")\n",
    "plt.hist(y_test_combine,label=\"Test\")\n",
    "plt.legend()\n",
    "plt.show()"
   ]
  },
  {
   "cell_type": "code",
   "execution_count": 48,
   "id": "df3b9bca-c6ec-42d8-8dd6-6e0ad0553522",
   "metadata": {},
   "outputs": [],
   "source": [
    "X_train_combine = data_preparation(X_train_combine)\n",
    "X_test_combine = data_preparation(X_test_combine)"
   ]
  },
  {
   "cell_type": "code",
   "execution_count": 49,
   "id": "3caae5de-05a0-40fd-bbe1-91bba7edf956",
   "metadata": {},
   "outputs": [],
   "source": [
    "callbacks = [\n",
    "    keras.callbacks.EarlyStopping(\n",
    "        # Stop training when `val_loss` is no longer improving\n",
    "        # \"no longer improving\" being defined as \"no better than 1e-3 less\"\n",
    "        # \"no longer improving\" being further defined as \"for at least 3 epochs\"\n",
    "        monitor=\"val_loss\",\n",
    "        min_delta=1e-3,\n",
    "        patience=3,\n",
    "        verbose=1),]"
   ]
  },
  {
   "cell_type": "code",
   "execution_count": null,
   "id": "15bd0efe-1a81-48f4-a09f-f94da5097480",
   "metadata": {},
   "outputs": [
    {
     "name": "stdout",
     "output_type": "stream",
     "text": [
      "Trial 220 Complete [00h 00m 11s]\n",
      "val_mean_absolute_error: 1.2129149436950684\n",
      "\n",
      "Best val_mean_absolute_error So Far: 0.8174171447753906\n",
      "Total elapsed time: 00h 33m 30s\n",
      "\n",
      "Search: Running Trial #221\n",
      "\n",
      "Value             |Best Value So Far |Hyperparameter\n",
      "100               |100               |input\n",
      "3                 |2                 |num_conv_layers\n",
      "224               |160               |filters_1\n",
      "16                |11                |kernel_size_0\n",
      "3.2735e-05        |3.2274e-05        |kernel_regulizer\n",
      "4.7657e-05        |0.0016347         |activity_regulizer\n",
      "64                |128               |filters_2\n",
      "14                |19                |kernel_size_1\n",
      "AP                |AP                |pooling_1\n",
      "valid             |same              |padding_1\n",
      "2                 |4                 |MP\n",
      "False             |False             |batch_normalization\n",
      "4                 |1                 |num_dense_layers\n",
      "168               |8                 |dense_size\n",
      "0.3               |0                 |dropout_1\n",
      "0.1               |0.3               |dropout_2\n",
      "0.00065936        |0.0025536         |learning_rate\n",
      "0.4               |0                 |dropout_3\n",
      "0                 |0.4               |dropout_4\n",
      "64                |96                |filters_3\n",
      "13                |18                |kernel_size_2\n",
      "MP                |MP                |pooling_2\n",
      "same              |valid             |padding_2\n",
      "3                 |3                 |AP\n",
      "MP                |No pool           |pooling_0\n",
      "valid             |valid             |padding_0\n",
      "96                |192               |filters_4\n",
      "18                |14                |kernel_size_3\n",
      "No pool           |No pool           |pooling_3\n",
      "same              |same              |padding_3\n",
      "12                |34                |tuner/epochs\n",
      "0                 |12                |tuner/initial_epoch\n",
      "2                 |4                 |tuner/bracket\n",
      "0                 |3                 |tuner/round\n",
      "\n",
      "Epoch 1/12\n",
      "12/12 [==============================] - 2s 73ms/step - loss: 12.5965 - mean_absolute_error: 2.8619 - val_loss: 9.5349 - val_mean_absolute_error: 2.6531\n",
      "Epoch 2/12\n",
      "12/12 [==============================] - ETA: 0s - loss: 6.9034 - mean_absolute_error: 2.0705"
     ]
    }
   ],
   "source": [
    "X, y = data(\"vary_width\")\n",
    "X_train_new, X_test_new, y_train_new, y_test_new = train_test_split(X, y, test_size=0.3, random_state=42,shuffle=True)\n",
    "X_train_new = data_preparation(X_train_new)\n",
    "X_test_new = data_preparation(X_test_new)\n",
    "tuner_HB = tuning_model(build_model_CNN, callbacks, \n",
    "                        X_train_combine, y_train_combine, X_test_combine, y_test_combine,\n",
    "                        model_type=\"HB\", \n",
    "                        project=\"CNN_combine_HB_without_centeral_crop\") \n",
    "\n",
    "best_model, best_model_hp, history = hp_model_output_information(tuner_HB,X_train_combine, X_test_combine, y_train_combine, y_test_combine)\n",
    "best_model.save(\"CNN_combine_without_centeral_crop_HB_best_model\")"
   ]
  },
  {
   "cell_type": "code",
   "execution_count": 56,
   "id": "3868c77a-4f49-4480-82b8-a59f2f769b87",
   "metadata": {},
   "outputs": [
    {
     "name": "stderr",
     "output_type": "stream",
     "text": [
      "WARNING:absl:Found untraced functions such as _jit_compiled_convolution_op, _jit_compiled_convolution_op, _jit_compiled_convolution_op, _update_step_xla while saving (showing 4 of 4). These functions will not be directly callable after loading.\n"
     ]
    },
    {
     "name": "stdout",
     "output_type": "stream",
     "text": [
      "INFO:tensorflow:Assets written to: CNN_only_new_dataset_HB/assets\n"
     ]
    },
    {
     "name": "stderr",
     "output_type": "stream",
     "text": [
      "INFO:tensorflow:Assets written to: CNN_only_new_dataset_HB/assets\n"
     ]
    }
   ],
   "source": [
    "tuner_HB = tuning_model(build_model_CNN, callbacks, \n",
    "                        X_train_combine, y_train_combine, X_test_combine, y_test_combine, \n",
    "                        model_type=\"HB\", \n",
    "                        project=\"CNN_combine_HB\") \n",
    "best_model, best_model_hp, history = hp_model_output_information(tuner_HB,X_train_combine, y_train_combine, X_test_combine, y_test_combine)\n",
    "best_model.save(\"CNN_combine_HB_best_model\")"
   ]
  },
  {
   "cell_type": "code",
   "execution_count": null,
   "id": "9700d1b3-2f15-40fe-8dad-0d921b41499b",
   "metadata": {},
   "outputs": [],
   "source": []
  }
 ],
 "metadata": {
  "kernelspec": {
   "display_name": "Python 3 (ipykernel)",
   "language": "python",
   "name": "python3"
  },
  "language_info": {
   "codemirror_mode": {
    "name": "ipython",
    "version": 3
   },
   "file_extension": ".py",
   "mimetype": "text/x-python",
   "name": "python",
   "nbconvert_exporter": "python",
   "pygments_lexer": "ipython3",
   "version": "3.8.10"
  }
 },
 "nbformat": 4,
 "nbformat_minor": 5
}
