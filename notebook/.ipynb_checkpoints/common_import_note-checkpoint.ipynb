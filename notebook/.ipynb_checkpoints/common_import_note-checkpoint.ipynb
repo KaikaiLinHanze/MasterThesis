{
 "cells": [
  {
   "cell_type": "code",
   "execution_count": 1,
   "metadata": {},
   "outputs": [
    {
     "name": "stderr",
     "output_type": "stream",
     "text": [
      "/Users/kai/Downloads/graduation/AMFtrack/amftrack/util/dbx.py:3: TqdmExperimentalWarning: Using `tqdm.autonotebook.tqdm` in notebook mode. Use `tqdm.tqdm` instead to force console mode (e.g. in jupyter console)\n",
      "  from tqdm.autonotebook import tqdm\n"
     ]
    }
   ],
   "source": [
    "import pandas as pd\n",
    "import matplotlib.pyplot as plt\n",
    "import os\n",
    "import numpy as np\n",
    "import math\n",
    "import tensorflow as tf\n",
    "import numpy as np\n",
    "import os\n",
    "import pandas as pd\n",
    "import pathlib\n",
    "# for debug\n",
    "import logging\n",
    "# for image data\n",
    "import imageio\n",
    "import sys\n",
    "from tensorflow.keras import regularizers\n",
    "from sklearn.model_selection import KFold\n",
    "sys.path.append(\"/Users/kai/Downloads/graduation/AMFtrack\")\n",
    "from amftrack.util.file import chose_file\n",
    "from amftrack.util.sys import storage_path\n",
    "from amftrack.util.image_analysis import convert_to_micrometer"
   ]
  },
  {
   "cell_type": "code",
   "execution_count": 2,
   "metadata": {},
   "outputs": [
    {
     "name": "stdout",
     "output_type": "stream",
     "text": [
      "/Users/kai/Downloads/graduation/code/datasets\n"
     ]
    }
   ],
   "source": [
    "print(storage_path)"
   ]
  }
 ],
 "metadata": {
  "interpreter": {
   "hash": "5ac19eb75bcf261162520ccd9d5579982c8e385c27a8a3014d1ae342162dd190"
  },
  "kernelspec": {
   "display_name": "Python 3 (ipykernel)",
   "language": "python",
   "name": "python3"
  },
  "language_info": {
   "codemirror_mode": {
    "name": "ipython",
    "version": 3
   },
   "file_extension": ".py",
   "mimetype": "text/x-python",
   "name": "python",
   "nbconvert_exporter": "python",
   "pygments_lexer": "ipython3",
   "version": "3.8.10"
  }
 },
 "nbformat": 4,
 "nbformat_minor": 4
}
