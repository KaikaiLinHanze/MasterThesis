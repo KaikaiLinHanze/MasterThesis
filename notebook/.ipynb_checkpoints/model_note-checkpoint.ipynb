{
 "cells": [
  {
   "cell_type": "code",
   "execution_count": 85,
   "metadata": {},
   "outputs": [],
   "source": [
    "import tensorflow as tf"
   ]
  },
  {
   "cell_type": "code",
   "execution_count": 86,
   "metadata": {},
   "outputs": [],
   "source": [
    "# This setting can make it easier for debugging, it runs code line by line\n",
    "tf.config.run_functions_eagerly(True)"
   ]
  },
  {
   "cell_type": "markdown",
   "metadata": {},
   "source": [
    "## data load"
   ]
  },
  {
   "cell_type": "code",
   "execution_count": 87,
   "metadata": {},
   "outputs": [],
   "source": [
    "import logging\n",
    "import os\n",
    "logger = logging.getLogger(\"notebook\")\n",
    "logger.setLevel(logging.DEBUG)\n",
    "\n",
    "def load_image(filename:str):\n",
    "    \"\"\"\n",
    "    From one file name (corresponding to an edge).\n",
    "    Loads the data associated with this one file/edge.\n",
    "    filename: str, path\n",
    "    return: tf, dataset\n",
    "    \"\"\"\n",
    "    logger.info(f\"Type of file: {type(filename)}\")\n",
    "    logger.info(f\"File name: {filename}\")\n",
    "    # 1/ Slices from the edge\n",
    "    raw = tf.io.read_file(filename)  # open the file\n",
    "    image = tf.image.decode_png(raw, channels=1, dtype=tf.uint8) #channels 1 for gray;3 for RGB;4 for RGBA\n",
    "    logger.debug(f\"Initial shape: {image.shape}\")\n",
    "    image = tf.squeeze(image)  # removing the dimension 1\n",
    "    logger.debug(f\"Final shape: {image.shape}\")\n",
    "    slice_dataset = tf.data.Dataset.from_tensor_slices(image) # create dataset\n",
    "\n",
    "    # 2/ Information on the edge\n",
    "    edge_data_full_path = tf.map_fn(filename, image_path_to_df_path)\n",
    "    logger.debug(edge_data_full_path)\n",
    "    edge_df = pd.read_csv(edge_data_full_path)\n",
    "    logger.debug(edge_df.columns)\n",
    "\n",
    "    # 3/ Labels\n",
    "    label_dataset = tf.data.Dataset.from_tensor_slices(tf.convert_to_tensor(edge_df[[\"width\"]]))\n",
    "\n",
    "    return tf.data.Dataset.zip((slice_dataset, label_dataset))"
   ]
  },
  {
   "cell_type": "code",
   "execution_count": 88,
   "metadata": {},
   "outputs": [
    {
     "name": "stdout",
     "output_type": "stream",
     "text": [
      "2022-10-27 22:32:12,288-[INFO]- notebook:13 -> Type of file: <class 'numpy.ndarray'>\n",
      "2022-10-27 22:32:12,290-[INFO]- notebook:14 -> File name: [ 6 23 36 50 21 19  9 39 59  3  0 53 47 44]\n"
     ]
    },
    {
     "ename": "ValueError",
     "evalue": "Failed to convert a NumPy array to a Tensor (Unsupported object type int).",
     "output_type": "error",
     "traceback": [
      "\u001b[0;31m---------------------------------------------------------------------------\u001b[0m",
      "\u001b[0;31mValueError\u001b[0m                                Traceback (most recent call last)",
      "Cell \u001b[0;32mIn [88], line 2\u001b[0m\n\u001b[1;32m      1\u001b[0m SHUFFLE \u001b[38;5;241m=\u001b[39m \u001b[38;5;241m100\u001b[39m\n\u001b[0;32m----> 2\u001b[0m b \u001b[38;5;241m=\u001b[39m \u001b[43mload_image\u001b[49m\u001b[43m(\u001b[49m\u001b[43mtest\u001b[49m\u001b[43m)\u001b[49m\u001b[38;5;241m.\u001b[39mshuffle(SHUFFLE)\n",
      "Cell \u001b[0;32mIn [87], line 16\u001b[0m, in \u001b[0;36mload_image\u001b[0;34m(filename)\u001b[0m\n\u001b[1;32m     14\u001b[0m logger\u001b[38;5;241m.\u001b[39minfo(\u001b[38;5;124mf\u001b[39m\u001b[38;5;124m\"\u001b[39m\u001b[38;5;124mFile name: \u001b[39m\u001b[38;5;132;01m{\u001b[39;00mfilename\u001b[38;5;132;01m}\u001b[39;00m\u001b[38;5;124m\"\u001b[39m)\n\u001b[1;32m     15\u001b[0m \u001b[38;5;66;03m# 1/ Slices from the edge\u001b[39;00m\n\u001b[0;32m---> 16\u001b[0m raw \u001b[38;5;241m=\u001b[39m \u001b[43mtf\u001b[49m\u001b[38;5;241;43m.\u001b[39;49m\u001b[43mio\u001b[49m\u001b[38;5;241;43m.\u001b[39;49m\u001b[43mread_file\u001b[49m\u001b[43m(\u001b[49m\u001b[43mfilename\u001b[49m\u001b[43m)\u001b[49m  \u001b[38;5;66;03m# open the file\u001b[39;00m\n\u001b[1;32m     17\u001b[0m image \u001b[38;5;241m=\u001b[39m tf\u001b[38;5;241m.\u001b[39mimage\u001b[38;5;241m.\u001b[39mdecode_png(raw, channels\u001b[38;5;241m=\u001b[39m\u001b[38;5;241m1\u001b[39m, dtype\u001b[38;5;241m=\u001b[39mtf\u001b[38;5;241m.\u001b[39muint8) \u001b[38;5;66;03m#channels 1 for gray;3 for RGB;4 for RGBA\u001b[39;00m\n\u001b[1;32m     18\u001b[0m logger\u001b[38;5;241m.\u001b[39mdebug(\u001b[38;5;124mf\u001b[39m\u001b[38;5;124m\"\u001b[39m\u001b[38;5;124mInitial shape: \u001b[39m\u001b[38;5;132;01m{\u001b[39;00mimage\u001b[38;5;241m.\u001b[39mshape\u001b[38;5;132;01m}\u001b[39;00m\u001b[38;5;124m\"\u001b[39m)\n",
      "File \u001b[0;32m~/miniconda3/envs/project/lib/python3.10/site-packages/tensorflow/python/ops/io_ops.py:133\u001b[0m, in \u001b[0;36mread_file\u001b[0;34m(filename, name)\u001b[0m\n\u001b[1;32m     96\u001b[0m \u001b[38;5;129m@tf_export\u001b[39m(\u001b[38;5;124m\"\u001b[39m\u001b[38;5;124mio.read_file\u001b[39m\u001b[38;5;124m\"\u001b[39m, v1\u001b[38;5;241m=\u001b[39m[\u001b[38;5;124m\"\u001b[39m\u001b[38;5;124mio.read_file\u001b[39m\u001b[38;5;124m\"\u001b[39m, \u001b[38;5;124m\"\u001b[39m\u001b[38;5;124mread_file\u001b[39m\u001b[38;5;124m\"\u001b[39m])\n\u001b[1;32m     97\u001b[0m \u001b[38;5;28;01mdef\u001b[39;00m \u001b[38;5;21mread_file\u001b[39m(filename, name\u001b[38;5;241m=\u001b[39m\u001b[38;5;28;01mNone\u001b[39;00m):\n\u001b[1;32m     98\u001b[0m   \u001b[38;5;124;03m\"\"\"Reads the contents of file.\u001b[39;00m\n\u001b[1;32m     99\u001b[0m \n\u001b[1;32m    100\u001b[0m \u001b[38;5;124;03m  This operation returns a tensor with the entire contents of the input\u001b[39;00m\n\u001b[0;32m   (...)\u001b[0m\n\u001b[1;32m    131\u001b[0m \u001b[38;5;124;03m    A tensor of dtype \"string\", with the file contents.\u001b[39;00m\n\u001b[1;32m    132\u001b[0m \u001b[38;5;124;03m  \"\"\"\u001b[39;00m\n\u001b[0;32m--> 133\u001b[0m   \u001b[38;5;28;01mreturn\u001b[39;00m \u001b[43mgen_io_ops\u001b[49m\u001b[38;5;241;43m.\u001b[39;49m\u001b[43mread_file\u001b[49m\u001b[43m(\u001b[49m\u001b[43mfilename\u001b[49m\u001b[43m,\u001b[49m\u001b[43m \u001b[49m\u001b[43mname\u001b[49m\u001b[43m)\u001b[49m\n",
      "File \u001b[0;32m~/miniconda3/envs/project/lib/python3.10/site-packages/tensorflow/python/ops/gen_io_ops.py:558\u001b[0m, in \u001b[0;36mread_file\u001b[0;34m(filename, name)\u001b[0m\n\u001b[1;32m    556\u001b[0m \u001b[38;5;28;01mif\u001b[39;00m tld\u001b[38;5;241m.\u001b[39mis_eager:\n\u001b[1;32m    557\u001b[0m   \u001b[38;5;28;01mtry\u001b[39;00m:\n\u001b[0;32m--> 558\u001b[0m     _result \u001b[38;5;241m=\u001b[39m \u001b[43mpywrap_tfe\u001b[49m\u001b[38;5;241;43m.\u001b[39;49m\u001b[43mTFE_Py_FastPathExecute\u001b[49m\u001b[43m(\u001b[49m\n\u001b[1;32m    559\u001b[0m \u001b[43m      \u001b[49m\u001b[43m_ctx\u001b[49m\u001b[43m,\u001b[49m\u001b[43m \u001b[49m\u001b[38;5;124;43m\"\u001b[39;49m\u001b[38;5;124;43mReadFile\u001b[39;49m\u001b[38;5;124;43m\"\u001b[39;49m\u001b[43m,\u001b[49m\u001b[43m \u001b[49m\u001b[43mname\u001b[49m\u001b[43m,\u001b[49m\u001b[43m \u001b[49m\u001b[43mfilename\u001b[49m\u001b[43m)\u001b[49m\n\u001b[1;32m    560\u001b[0m     \u001b[38;5;28;01mreturn\u001b[39;00m _result\n\u001b[1;32m    561\u001b[0m   \u001b[38;5;28;01mexcept\u001b[39;00m _core\u001b[38;5;241m.\u001b[39m_NotOkStatusException \u001b[38;5;28;01mas\u001b[39;00m e:\n",
      "\u001b[0;31mValueError\u001b[0m: Failed to convert a NumPy array to a Tensor (Unsupported object type int)."
     ]
    }
   ],
   "source": [
    "SHUFFLE = 100\n",
    "b = load_image(test).shuffle(SHUFFLE)"
   ]
  },
  {
   "cell_type": "markdown",
   "metadata": {},
   "source": [
    "## Dataset"
   ]
  },
  {
   "cell_type": "code",
   "execution_count": null,
   "metadata": {},
   "outputs": [
    {
     "ename": "InvalidArgumentError",
     "evalue": "Expected 'tf.Tensor(False, shape=(), dtype=bool)' to be true. Summarized data: b'No files matched pattern: /path/*.png'",
     "output_type": "error",
     "traceback": [
      "\u001b[0;31m---------------------------------------------------------------------------\u001b[0m",
      "\u001b[0;31mInvalidArgumentError\u001b[0m                      Traceback (most recent call last)",
      "Cell \u001b[0;32mIn [5], line 2\u001b[0m\n\u001b[1;32m      1\u001b[0m \u001b[38;5;66;03m# create a dataset for all files matching pattern\u001b[39;00m\n\u001b[0;32m----> 2\u001b[0m path_dataset \u001b[38;5;241m=\u001b[39m \u001b[43mtf\u001b[49m\u001b[38;5;241;43m.\u001b[39;49m\u001b[43mdata\u001b[49m\u001b[38;5;241;43m.\u001b[39;49m\u001b[43mDataset\u001b[49m\u001b[38;5;241;43m.\u001b[39;49m\u001b[43mlist_files\u001b[49m\u001b[43m(\u001b[49m\u001b[38;5;124;43m\"\u001b[39;49m\u001b[38;5;124;43m/path/*.png\u001b[39;49m\u001b[38;5;124;43m\"\u001b[39;49m\u001b[43m)\u001b[49m\n\u001b[1;32m      3\u001b[0m \u001b[38;5;66;03m# tf.data.Dataset.interleave(fn, cycle length, block length, num parallel)\u001b[39;00m\n\u001b[1;32m      4\u001b[0m \u001b[38;5;66;03m# get cycle lenth from dataset to process fn\u001b[39;00m\n\u001b[1;32m      5\u001b[0m general_dataset \u001b[38;5;241m=\u001b[39m path_dataset\u001b[38;5;241m.\u001b[39minterleave(load_image, cycle_length\u001b[38;5;241m=\u001b[39m\u001b[38;5;241m3\u001b[39m)\n",
      "File \u001b[0;32m~/miniconda3/envs/project/lib/python3.10/site-packages/tensorflow/python/data/ops/dataset_ops.py:1348\u001b[0m, in \u001b[0;36mDatasetV2.list_files\u001b[0;34m(file_pattern, shuffle, seed, name)\u001b[0m\n\u001b[1;32m   1341\u001b[0m condition \u001b[38;5;241m=\u001b[39m math_ops\u001b[38;5;241m.\u001b[39mgreater(array_ops\u001b[38;5;241m.\u001b[39mshape(matching_files)[\u001b[38;5;241m0\u001b[39m], \u001b[38;5;241m0\u001b[39m,\n\u001b[1;32m   1342\u001b[0m                              name\u001b[38;5;241m=\u001b[39m\u001b[38;5;124m\"\u001b[39m\u001b[38;5;124mmatch_not_empty\u001b[39m\u001b[38;5;124m\"\u001b[39m)\n\u001b[1;32m   1344\u001b[0m message \u001b[38;5;241m=\u001b[39m math_ops\u001b[38;5;241m.\u001b[39madd(\n\u001b[1;32m   1345\u001b[0m     \u001b[38;5;124m\"\u001b[39m\u001b[38;5;124mNo files matched pattern: \u001b[39m\u001b[38;5;124m\"\u001b[39m,\n\u001b[1;32m   1346\u001b[0m     string_ops\u001b[38;5;241m.\u001b[39mreduce_join(file_pattern, separator\u001b[38;5;241m=\u001b[39m\u001b[38;5;124m\"\u001b[39m\u001b[38;5;124m, \u001b[39m\u001b[38;5;124m\"\u001b[39m), name\u001b[38;5;241m=\u001b[39m\u001b[38;5;124m\"\u001b[39m\u001b[38;5;124mmessage\u001b[39m\u001b[38;5;124m\"\u001b[39m)\n\u001b[0;32m-> 1348\u001b[0m assert_not_empty \u001b[38;5;241m=\u001b[39m \u001b[43mcontrol_flow_ops\u001b[49m\u001b[38;5;241;43m.\u001b[39;49m\u001b[43mAssert\u001b[49m\u001b[43m(\u001b[49m\n\u001b[1;32m   1349\u001b[0m \u001b[43m    \u001b[49m\u001b[43mcondition\u001b[49m\u001b[43m,\u001b[49m\u001b[43m \u001b[49m\u001b[43m[\u001b[49m\u001b[43mmessage\u001b[49m\u001b[43m]\u001b[49m\u001b[43m,\u001b[49m\u001b[43m \u001b[49m\u001b[43msummarize\u001b[49m\u001b[38;5;241;43m=\u001b[39;49m\u001b[38;5;241;43m1\u001b[39;49m\u001b[43m,\u001b[49m\u001b[43m \u001b[49m\u001b[43mname\u001b[49m\u001b[38;5;241;43m=\u001b[39;49m\u001b[38;5;124;43m\"\u001b[39;49m\u001b[38;5;124;43massert_not_empty\u001b[39;49m\u001b[38;5;124;43m\"\u001b[39;49m\u001b[43m)\u001b[49m\n\u001b[1;32m   1350\u001b[0m \u001b[38;5;28;01mwith\u001b[39;00m ops\u001b[38;5;241m.\u001b[39mcontrol_dependencies([assert_not_empty]):\n\u001b[1;32m   1351\u001b[0m   matching_files \u001b[38;5;241m=\u001b[39m array_ops\u001b[38;5;241m.\u001b[39midentity(matching_files)\n",
      "File \u001b[0;32m~/miniconda3/envs/project/lib/python3.10/site-packages/tensorflow/python/util/traceback_utils.py:153\u001b[0m, in \u001b[0;36mfilter_traceback.<locals>.error_handler\u001b[0;34m(*args, **kwargs)\u001b[0m\n\u001b[1;32m    151\u001b[0m \u001b[38;5;28;01mexcept\u001b[39;00m \u001b[38;5;167;01mException\u001b[39;00m \u001b[38;5;28;01mas\u001b[39;00m e:\n\u001b[1;32m    152\u001b[0m   filtered_tb \u001b[38;5;241m=\u001b[39m _process_traceback_frames(e\u001b[38;5;241m.\u001b[39m__traceback__)\n\u001b[0;32m--> 153\u001b[0m   \u001b[38;5;28;01mraise\u001b[39;00m e\u001b[38;5;241m.\u001b[39mwith_traceback(filtered_tb) \u001b[38;5;28;01mfrom\u001b[39;00m \u001b[38;5;28mNone\u001b[39m\n\u001b[1;32m    154\u001b[0m \u001b[38;5;28;01mfinally\u001b[39;00m:\n\u001b[1;32m    155\u001b[0m   \u001b[38;5;28;01mdel\u001b[39;00m filtered_tb\n",
      "File \u001b[0;32m~/miniconda3/envs/project/lib/python3.10/site-packages/tensorflow/python/ops/control_flow_ops.py:157\u001b[0m, in \u001b[0;36mAssert\u001b[0;34m(condition, data, summarize, name)\u001b[0m\n\u001b[1;32m    155\u001b[0m     xs \u001b[38;5;241m=\u001b[39m ops\u001b[38;5;241m.\u001b[39mconvert_n_to_tensor(data)\n\u001b[1;32m    156\u001b[0m     data_str \u001b[38;5;241m=\u001b[39m [_summarize_eager(x, summarize) \u001b[38;5;28;01mfor\u001b[39;00m x \u001b[38;5;129;01min\u001b[39;00m xs]\n\u001b[0;32m--> 157\u001b[0m     \u001b[38;5;28;01mraise\u001b[39;00m errors\u001b[38;5;241m.\u001b[39mInvalidArgumentError(\n\u001b[1;32m    158\u001b[0m         node_def\u001b[38;5;241m=\u001b[39m\u001b[38;5;28;01mNone\u001b[39;00m,\n\u001b[1;32m    159\u001b[0m         op\u001b[38;5;241m=\u001b[39m\u001b[38;5;28;01mNone\u001b[39;00m,\n\u001b[1;32m    160\u001b[0m         message\u001b[38;5;241m=\u001b[39m\u001b[38;5;124m\"\u001b[39m\u001b[38;5;124mExpected \u001b[39m\u001b[38;5;124m'\u001b[39m\u001b[38;5;132;01m%s\u001b[39;00m\u001b[38;5;124m'\u001b[39m\u001b[38;5;124m to be true. Summarized data: \u001b[39m\u001b[38;5;132;01m%s\u001b[39;00m\u001b[38;5;124m\"\u001b[39m \u001b[38;5;241m%\u001b[39m\n\u001b[1;32m    161\u001b[0m         (condition, \u001b[38;5;124m\"\u001b[39m\u001b[38;5;130;01m\\n\u001b[39;00m\u001b[38;5;124m\"\u001b[39m\u001b[38;5;241m.\u001b[39mjoin(data_str)))\n\u001b[1;32m    162\u001b[0m   \u001b[38;5;28;01mreturn\u001b[39;00m\n\u001b[1;32m    164\u001b[0m \u001b[38;5;28;01mwith\u001b[39;00m ops\u001b[38;5;241m.\u001b[39mname_scope(name, \u001b[38;5;124m\"\u001b[39m\u001b[38;5;124mAssert\u001b[39m\u001b[38;5;124m\"\u001b[39m, [condition, data]) \u001b[38;5;28;01mas\u001b[39;00m name:\n",
      "\u001b[0;31mInvalidArgumentError\u001b[0m: Expected 'tf.Tensor(False, shape=(), dtype=bool)' to be true. Summarized data: b'No files matched pattern: /path/*.png'"
     ]
    }
   ],
   "source": [
    "# create a dataset for all files matching pattern\n",
    "path_dataset = tf.data.Dataset.list_files(\"/path/*.png\")\n",
    "# tf.data.Dataset.interleave(fn, cycle length, block length, num parallel)\n",
    "# get cycle lenth from dataset to process fn\n",
    "general_dataset = path_dataset.interleave(load_image, cycle_length=3)"
   ]
  },
  {
   "cell_type": "code",
   "execution_count": null,
   "metadata": {},
   "outputs": [],
   "source": [
    "# os.listdir(\"path: a the directory, which needs to be explored\")\n",
    "filepaths = [os.path.join(section_path, file) for file in os.listdir(section_path)]\n",
    "def reader_dataset(filepaths, repeat=1, n_readers=5, shuffle_buffer_size=1000, batch_size=32):\n",
    "    \"\"\"\n",
    "    Take a list of data files, and return a tf.Dataset object iterating through the batches.\n",
    "    filepaths: list, contain several file path in the directory that we want to explore.\n",
    "    return tf.dataset, use prefetch to read it more efficient.\n",
    "    \"\"\"\n",
    "    path_dataset = tf.data.Dataset.list_files(filepaths)  # yield file names randomly\n",
    "    general_dataset = path_dataset.interleave(lambda filepath: load_image(filepath), cycle_length=n_readers)\n",
    "    general_dataset = general_dataset.shuffle(shuffle_buffer_size).repeat(repeat)\n",
    "    return general_dataset.batch(batch_size).prefetch(1)"
   ]
  },
  {
   "cell_type": "markdown",
   "metadata": {},
   "source": [
    "## Data preparation"
   ]
  },
  {
   "cell_type": "code",
   "execution_count": null,
   "metadata": {},
   "outputs": [
    {
     "name": "stdout",
     "output_type": "stream",
     "text": [
      "original shape (2,) data look like [1 2]\n",
      "expand shape (2, 1) data look like [[1]\n",
      " [2]]\n",
      "expand shape (1, 2) data look like [[1 2]]\n"
     ]
    }
   ],
   "source": [
    "# for expand dim\n",
    "import numpy as np\n",
    "x = np.array([1,2]) \n",
    "print(\"original shape\",x.shape,\"data look like\",x)\n",
    "x = np.expand_dims(x,axis=1)\n",
    "print(\"expand shape\",x.shape,\"data look like\",x)\n",
    "x = np.array([1,2]) \n",
    "x = np.expand_dims(x,axis=0)\n",
    "print(\"expand shape\",x.shape,\"data look like\",x)\n"
   ]
  },
  {
   "cell_type": "code",
   "execution_count": null,
   "metadata": {},
   "outputs": [
    {
     "data": {
      "text/plain": [
       "array([8, 7, 6, 1, 5, 9, 3, 4])"
      ]
     },
     "execution_count": 7,
     "metadata": {},
     "output_type": "execute_result"
    }
   ],
   "source": [
    "np.random.seed(0) # to set up every random value will be the same\n",
    "np.random.rand(3) # without the previous step the value will change each time\n",
    "np.random.permutation([1,3,5,4,6,7,8,9]) # to random order of input"
   ]
  },
  {
   "cell_type": "code",
   "execution_count": null,
   "metadata": {},
   "outputs": [],
   "source": [
    "p = np.random.permutation(label.shape[0])\n",
    "training = p[:50]\n",
    "test = p[50:]"
   ]
  },
  {
   "cell_type": "code",
   "execution_count": null,
   "metadata": {},
   "outputs": [],
   "source": [
    "train_feature = im[training, :]\n",
    "train_label = label[training, 0]\n",
    "test_feature = im[test, :]\n",
    "test_label = label[test, :]"
   ]
  },
  {
   "cell_type": "markdown",
   "metadata": {},
   "source": [
    "## Cross validation"
   ]
  },
  {
   "cell_type": "code",
   "execution_count": null,
   "metadata": {},
   "outputs": [
    {
     "ename": "ModuleNotFoundError",
     "evalue": "No module named 'KFold'",
     "output_type": "error",
     "traceback": [
      "\u001b[0;31m---------------------------------------------------------------------------\u001b[0m",
      "\u001b[0;31mModuleNotFoundError\u001b[0m                       Traceback (most recent call last)",
      "Cell \u001b[0;32mIn [48], line 1\u001b[0m\n\u001b[0;32m----> 1\u001b[0m \u001b[38;5;28;01mimport\u001b[39;00m \u001b[38;5;21;01mKFold\u001b[39;00m\n\u001b[1;32m      2\u001b[0m \u001b[38;5;28;01mfor\u001b[39;00m train, valid \u001b[38;5;129;01min\u001b[39;00m KFold(\u001b[38;5;241m4\u001b[39m)\u001b[38;5;241m.\u001b[39msplit(p):\n\u001b[1;32m      3\u001b[0m     mean \u001b[38;5;241m=\u001b[39m np\u001b[38;5;241m.\u001b[39mmean(label[train, :])\n",
      "\u001b[0;31mModuleNotFoundError\u001b[0m: No module named 'KFold'"
     ]
    }
   ],
   "source": [
    "from sklearn.model_selection import KFold\n",
    "for train, valid in KFold(4).split(p):\n",
    "    mean = np.mean(label[train, :])\n",
    "    score = np.mean(np.abs(label[valid, :] - mean))\n",
    "    print(score)"
   ]
  },
  {
   "cell_type": "markdown",
   "metadata": {},
   "source": [
    "## Dataset"
   ]
  },
  {
   "cell_type": "code",
   "execution_count": null,
   "metadata": {},
   "outputs": [],
   "source": [
    "# for data augmentation\n",
    "# Think about make Training set and Test set folder\n",
    "train_data = keras.preprocessing.image.ImageDataGenerator(\n",
    "    rescale = 1/255,\n",
    "    rotation_range = 30,\n",
    "    width_shift_range = 0.1,\n",
    "    height_shift_range = 0.1,\n",
    "    zoom_range = 0.2,\n",
    "    horizontal_flip = True,\n",
    ")\n",
    "\n",
    "train_generator = train_data.flow_from_directory(\n",
    "    directory=\"./dog_cat/train\",\n",
    "    batch_size = 20,\n",
    "    color_mode = \"rgb\",\n",
    "    target_size = (126,126),\n",
    "    class_mode = \"binary\"\n",
    ")\n",
    "\n",
    "# check data type\n",
    "for x_train, y_train in train_generator:\n",
    "    print(x_train.shape,x_train.dtype)\n",
    "    print(y_train.shape,y_train.dtype)\n",
    "    break\n",
    "\n",
    "# Make sure what should preprocessing\n",
    "test_data = keras.preprocessing.image.ImageDataGenerator(rescale=1/255)\n",
    "test_generator = test_data.flow_from_directory(\n",
    "    directory=\"./dog_cat/test\",\n",
    "    batch_size = 20,\n",
    "    color_mode = \"rgb\",\n",
    "    target_size = (126,126),\n",
    "    class_mode = \"binary\")\n",
    "\n",
    "# Run after compile\n",
    "result = model.fit_generator(\n",
    "    generator = train_generator,\n",
    "    epochs = 10,\n",
    "    validation_data = test_generator,\n",
    "    steps_per_epoch = 2000//20,\n",
    "    validation_steps = 25,\n",
    ")\n",
    "\n",
    "# for plotting\n",
    "import matplotlib.pyplot as plt\n",
    "plt.plot(result.history[\"binary_accuracy\"], 'go', label='Binary_accuracy')\n",
    "plt.plot(result.history['val_binary_accuracy'], 'g-', label='Val_binary_accuracy')\n",
    "plt.xlabel('Epochs')\n",
    "plt.ylabel('Loss')\n",
    "plt.legend()\n",
    "plt.show()\n"
   ]
  },
  {
   "cell_type": "code",
   "execution_count": 220,
   "metadata": {},
   "outputs": [
    {
     "data": {
      "text/plain": [
       "Array([[164, 165, 164, ..., 143, 143, 142],\n",
       "       [164, 164, 162, ..., 158, 157, 157],\n",
       "       [154, 151, 150, ..., 164, 163, 164],\n",
       "       ...,\n",
       "       [185, 185, 185, ..., 186, 187, 186],\n",
       "       [180, 179, 180, ..., 187, 188, 187],\n",
       "       [180, 178, 185, ..., 183, 184, 185]], dtype=uint8)"
      ]
     },
     "execution_count": 220,
     "metadata": {},
     "output_type": "execute_result"
    }
   ],
   "source": [
    "im"
   ]
  },
  {
   "cell_type": "markdown",
   "metadata": {},
   "source": [
    "## Model"
   ]
  },
  {
   "cell_type": "code",
   "execution_count": 216,
   "metadata": {},
   "outputs": [],
   "source": [
    "def model1():\n",
    "    \"\"\"\n",
    "    This is the first model structure for the CNN.\n",
    "    \"\"\"\n",
    "    from tensorflow import keras\n",
    "    from tensorflow.keras import regularizers\n",
    "    input = keras.layers.InputLayer(input_shape=(120,1)) #input layer\n",
    "    scaling = keras.layers.Rescaling(1.0 / 128) # check why 128\n",
    "    # https://stats.stackexchange.com/questions/383310/what-is-the-difference-between-kernel-bias-and-activity-regulizers-and-when-t\n",
    "    # Kernel Regularizer: Tries to reduce the weights 𝑊 (excluding bias).\n",
    "    # Bias Regularizer: Tries to reduce the bias 𝑏.\n",
    "    # Activity Regularizer: Tries to reduce the layer's output 𝑦, thus will reduce the weights and adjust bias so 𝑊𝑥+𝑏 is smallest.\n",
    "    # TODO: try different Regularizer,L1 ,L2\n",
    "    Conv1 = keras.layers.Conv1D(\n",
    "        filters = 300, kernel_size=12,\n",
    "        strides = 3,   activation=\"relu\",\n",
    "        name    =\"conv1\", activity_regularizer=keras.regularizers.L1L2(l1=1e-5, l2=1e-5))\n",
    "    pool1 = keras.layers.MaxPooling1D(2)\n",
    "    Conv2 = keras.layers.Conv1D(\n",
    "        filters = 320, kernel_size=8,\n",
    "        strides =3,     activation=\"relu\",\n",
    "        name=\"conv2\",  kernel_regularizer=regularizers.L1L2(l1=1e-5, l2=1e-4))\n",
    "    pool2 = keras.layers.MaxPooling1D(2)\n",
    "    flatten = keras.layers.Flatten()\n",
    "    Dense1 = keras.layers.Dense(units = 340,activation=\"relu\",name=\"dense1\",kernel_regularizer=regularizers.L1L2(l1=1e-5, l2=1e-4))\n",
    "    Dense2 = keras.layers.Dense(units = 220,activation=\"relu\",name=\"dense2\",kernel_regularizer=regularizers.L1L2(l1=1e-5, l2=1e-4))\n",
    "# Problem                                       last-later activation               loss function\n",
    "# Binary classification                         sigmoid                             binary crossentropy\n",
    "# Multiclass, single-label classification       softmax                             categorical crossentropy\n",
    "# Multiclass, multilabel classification         sigmoid                             binary crossentropy\n",
    "# Regression to arbitrary values                None                                mse\n",
    "# Regression to values between 0 and 1          sigmoid                             mse or binary crossentropy\n",
    "# The problem is multiclass(4class), so I chose softmax\n",
    "    output = keras.layers.Dense(units = 1,activation=None,name=\"output\",kernel_regularizer=regularizers.L1L2(l1=1e-5, l2=1e-4))\n",
    "    model = keras.models.Sequential([input,scaling,Conv1,pool1,Conv2,pool2,flatten,Dense1,Dense2,output])\n",
    "    return model"
   ]
  },
  {
   "cell_type": "code",
   "execution_count": 217,
   "metadata": {},
   "outputs": [
    {
     "name": "stdout",
     "output_type": "stream",
     "text": [
      "Model: \"sequential_27\"\n",
      "_________________________________________________________________\n",
      " Layer (type)                Output Shape              Param #   \n",
      "=================================================================\n",
      " rescaling_27 (Rescaling)    (None, 120, 1)            0         \n",
      "                                                                 \n",
      " conv1 (Conv1D)              (None, 37, 300)           3900      \n",
      "                                                                 \n",
      " max_pooling1d_30 (MaxPoolin  (None, 18, 300)          0         \n",
      " g1D)                                                            \n",
      "                                                                 \n",
      " conv2 (Conv1D)              (None, 4, 320)            768320    \n",
      "                                                                 \n",
      " max_pooling1d_31 (MaxPoolin  (None, 2, 320)           0         \n",
      " g1D)                                                            \n",
      "                                                                 \n",
      " flatten_27 (Flatten)        (None, 640)               0         \n",
      "                                                                 \n",
      " dense1 (Dense)              (None, 340)               217940    \n",
      "                                                                 \n",
      " dense2 (Dense)              (None, 220)               75020     \n",
      "                                                                 \n",
      " output (Dense)              (None, 1)                 221       \n",
      "                                                                 \n",
      "=================================================================\n",
      "Total params: 1,065,401\n",
      "Trainable params: 1,065,401\n",
      "Non-trainable params: 0\n",
      "_________________________________________________________________\n"
     ]
    }
   ],
   "source": [
    "from tensorflow import keras\n",
    "import tensorflow as tf\n",
    "# TODO: try different optimizer, learning rate.\n",
    "model = model1()\n",
    "model.compile(\n",
    "            optimizer=keras.optimizers.Adam(learning_rate=0.0001),\n",
    "            loss=keras.losses.MeanSquaredError(name=\"mean_squared_error\"),\n",
    "            metrics=[tf.keras.metrics.mean_absolute_error],)\n",
    "model.summary()"
   ]
  },
  {
   "cell_type": "code",
   "execution_count": null,
   "metadata": {},
   "outputs": [],
   "source": [
    "history = model.fit(\n",
    "    x=x_train,\n",
    "    y=y_train,\n",
    "    epochs=20,\n",
    "    batch_size=40,\n",
    "    verbose=2,\n",
    "    validation_data=(x_test, y_test)\n",
    ")\n",
    "history.history.keys()"
   ]
  },
  {
   "cell_type": "markdown",
   "metadata": {},
   "source": [
    "## data loading"
   ]
  },
  {
   "cell_type": "code",
   "execution_count": 91,
   "metadata": {},
   "outputs": [],
   "source": [
    "# check\n",
    "import sys\n",
    "sys.path.append(\"/Users/kai/Downloads/graduation/AMFtrack\")\n",
    "from amftrack.util.sys import storage_path\n",
    "path = os.path.join(storage_path,\"single_focus_-0.1_test\")\n",
    "im_path = os.path.join(path, \"slices.png\")\n",
    "label_path = os.path.join(path, \"labels.npy\")\n",
    "import imageio\n",
    "im = imageio.imread(im_path)\n",
    "with open(label_path, \"rb\") as f:\n",
    "    label = np.load(f)\n",
    "label = label.reshape(64,1)"
   ]
  },
  {
   "cell_type": "code",
   "execution_count": 162,
   "metadata": {},
   "outputs": [],
   "source": [
    "np.random.seed(0)\n",
    "n_label = np.random.permutation(label.shape[0])"
   ]
  },
  {
   "cell_type": "markdown",
   "metadata": {},
   "source": [
    "## Evaluate the score"
   ]
  },
  {
   "cell_type": "code",
   "execution_count": 211,
   "metadata": {},
   "outputs": [],
   "source": [
    "def evaluate_model(model,n_label,n_split:int,shuffle=True,random_state=42):\n",
    "    from sklearn.model_selection import StratifiedKFold,KFold\n",
    "    # before evaluate the KFold or StratifiedKFold, check the distrabution\n",
    "    # check the percentage normally Train60;Validation20;Test20\n",
    "    evaluations = []\n",
    "    historys = []\n",
    "    skf = StratifiedKFold(n_splits=n_split, shuffle=shuffle, random_state=random_state)\n",
    "    # https://scikit-learn.org/stable/modules/generated/sklearn.model_selection.KFold.html\n",
    "    # https://www.projectpro.io/recipes/explain-stratified-k-fold-cross-validation\n",
    "    # https://danilzherebtsov.medium.com/continuous-data-stratification-c121fc91964b \n",
    "    # Notice stratified need cannot use for continued data. Need to group it\n",
    "    kf = KFold(n_splits=n_split,shuffle=shuffle,random_state=random_state)\n",
    "    for train, test in kf.split(n_label):\n",
    "        train_feature = im[train]\n",
    "        train_label   = label[train]\n",
    "        test_feature  = im[test]\n",
    "        test_label    = label[test]\n",
    "\n",
    "        model = model1()\n",
    "        #TODO: try different optimizer, learning rate,batch_size,epochs\n",
    "        model.compile(\n",
    "            optimizer=keras.optimizers.Adam(learning_rate=0.0001),\n",
    "            loss=keras.losses.MeanSquaredError(name=\"mean_squared_error\"),\n",
    "            metrics=[tf.keras.metrics.mean_absolute_error],)\n",
    "        history = model.fit(\n",
    "                        x=train_feature,\n",
    "                        y=train_label,\n",
    "                        epochs=60,\n",
    "                        batch_size=5,\n",
    "                        verbose=1,\n",
    "                        validation_data=(test_feature, test_label)\n",
    "                    )\n",
    "        evaluate = model.evaluate(test_feature, test_label)\n",
    "        evaluations.append(evaluate)\n",
    "        historys.append(history)\n",
    "    return model,historys,evaluations\n"
   ]
  },
  {
   "cell_type": "code",
   "execution_count": 212,
   "metadata": {},
   "outputs": [
    {
     "name": "stdout",
     "output_type": "stream",
     "text": [
      "Mean: 4.250058492024739 Std: 0.2266156082146649\n"
     ]
    }
   ],
   "source": [
    "acc = [e[1] for e in evaluations]\n",
    "mean = np.mean(acc)\n",
    "std_dev = np.std(acc)\n",
    "print(f\"Mean: {mean} Std: {std_dev}\")"
   ]
  },
  {
   "cell_type": "code",
   "execution_count": 218,
   "metadata": {},
   "outputs": [
    {
     "name": "stdout",
     "output_type": "stream",
     "text": [
      "Epoch 1/60\n",
      "9/9 [==============================] - 0s 27ms/step - loss: 29.1896 - mean_absolute_error: 5.0045 - val_loss: 23.6270 - val_mean_absolute_error: 4.1731\n",
      "Epoch 2/60\n",
      "9/9 [==============================] - 0s 25ms/step - loss: 20.3296 - mean_absolute_error: 4.0022 - val_loss: 14.2365 - val_mean_absolute_error: 2.8350\n",
      "Epoch 3/60\n",
      "9/9 [==============================] - 0s 25ms/step - loss: 9.6952 - mean_absolute_error: 2.3157 - val_loss: 6.4843 - val_mean_absolute_error: 1.6837\n",
      "Epoch 4/60\n",
      "9/9 [==============================] - 0s 25ms/step - loss: 5.0212 - mean_absolute_error: 1.7320 - val_loss: 7.8677 - val_mean_absolute_error: 2.4703\n",
      "Epoch 5/60\n",
      "9/9 [==============================] - 0s 25ms/step - loss: 5.8192 - mean_absolute_error: 2.0222 - val_loss: 6.3612 - val_mean_absolute_error: 2.0130\n",
      "Epoch 6/60\n",
      "9/9 [==============================] - 0s 26ms/step - loss: 4.9340 - mean_absolute_error: 1.6563 - val_loss: 6.2060 - val_mean_absolute_error: 1.8155\n",
      "Epoch 7/60\n",
      "9/9 [==============================] - 0s 27ms/step - loss: 4.8248 - mean_absolute_error: 1.6572 - val_loss: 6.2953 - val_mean_absolute_error: 1.9821\n",
      "Epoch 8/60\n",
      "9/9 [==============================] - 0s 25ms/step - loss: 4.7751 - mean_absolute_error: 1.6843 - val_loss: 6.2613 - val_mean_absolute_error: 1.9633\n",
      "Epoch 9/60\n",
      "9/9 [==============================] - 0s 45ms/step - loss: 4.7596 - mean_absolute_error: 1.6841 - val_loss: 6.2219 - val_mean_absolute_error: 1.9369\n",
      "Epoch 10/60\n",
      "9/9 [==============================] - 0s 33ms/step - loss: 4.7779 - mean_absolute_error: 1.5947 - val_loss: 6.1626 - val_mean_absolute_error: 1.8451\n",
      "Epoch 11/60\n",
      "9/9 [==============================] - 0s 28ms/step - loss: 4.7114 - mean_absolute_error: 1.6134 - val_loss: 6.2011 - val_mean_absolute_error: 1.9342\n",
      "Epoch 12/60\n",
      "9/9 [==============================] - 0s 43ms/step - loss: 4.6841 - mean_absolute_error: 1.6640 - val_loss: 6.2415 - val_mean_absolute_error: 1.9759\n",
      "Epoch 13/60\n",
      "9/9 [==============================] - 0s 32ms/step - loss: 4.7675 - mean_absolute_error: 1.6666 - val_loss: 6.1695 - val_mean_absolute_error: 1.9168\n",
      "Epoch 14/60\n",
      "9/9 [==============================] - 0s 27ms/step - loss: 4.7333 - mean_absolute_error: 1.6655 - val_loss: 6.1829 - val_mean_absolute_error: 1.9390\n",
      "Epoch 15/60\n",
      "9/9 [==============================] - 0s 36ms/step - loss: 4.6802 - mean_absolute_error: 1.6586 - val_loss: 6.1742 - val_mean_absolute_error: 1.9374\n",
      "Epoch 16/60\n",
      "9/9 [==============================] - 0s 43ms/step - loss: 4.7585 - mean_absolute_error: 1.6223 - val_loss: 6.1138 - val_mean_absolute_error: 1.8527\n",
      "Epoch 17/60\n",
      "9/9 [==============================] - 0s 26ms/step - loss: 4.6822 - mean_absolute_error: 1.6163 - val_loss: 6.1040 - val_mean_absolute_error: 1.8517\n",
      "Epoch 18/60\n",
      "9/9 [==============================] - 0s 25ms/step - loss: 4.7087 - mean_absolute_error: 1.5883 - val_loss: 6.1034 - val_mean_absolute_error: 1.8723\n",
      "Epoch 19/60\n",
      "9/9 [==============================] - 0s 26ms/step - loss: 4.7108 - mean_absolute_error: 1.6973 - val_loss: 6.2844 - val_mean_absolute_error: 2.0322\n",
      "Epoch 20/60\n",
      "9/9 [==============================] - 0s 28ms/step - loss: 4.7960 - mean_absolute_error: 1.7665 - val_loss: 6.1823 - val_mean_absolute_error: 1.9759\n",
      "Epoch 21/60\n",
      "9/9 [==============================] - 0s 31ms/step - loss: 4.6586 - mean_absolute_error: 1.5841 - val_loss: 6.1242 - val_mean_absolute_error: 1.7572\n",
      "Epoch 22/60\n",
      "9/9 [==============================] - 0s 50ms/step - loss: 4.7224 - mean_absolute_error: 1.5829 - val_loss: 6.1041 - val_mean_absolute_error: 1.9186\n",
      "Epoch 23/60\n",
      "9/9 [==============================] - 0s 30ms/step - loss: 4.6934 - mean_absolute_error: 1.6016 - val_loss: 6.0601 - val_mean_absolute_error: 1.8525\n",
      "Epoch 24/60\n",
      "9/9 [==============================] - 0s 27ms/step - loss: 4.6480 - mean_absolute_error: 1.5895 - val_loss: 6.0577 - val_mean_absolute_error: 1.8648\n",
      "Epoch 25/60\n",
      "9/9 [==============================] - 0s 25ms/step - loss: 4.6637 - mean_absolute_error: 1.6580 - val_loss: 6.2463 - val_mean_absolute_error: 2.0324\n",
      "Epoch 26/60\n",
      "9/9 [==============================] - 0s 28ms/step - loss: 4.5729 - mean_absolute_error: 1.6824 - val_loss: 6.0560 - val_mean_absolute_error: 1.8895\n",
      "Epoch 27/60\n",
      "9/9 [==============================] - 0s 28ms/step - loss: 4.8238 - mean_absolute_error: 1.6008 - val_loss: 6.0694 - val_mean_absolute_error: 1.7655\n",
      "Epoch 28/60\n",
      "9/9 [==============================] - 0s 27ms/step - loss: 4.5766 - mean_absolute_error: 1.5759 - val_loss: 6.0869 - val_mean_absolute_error: 1.9390\n",
      "Epoch 29/60\n",
      "9/9 [==============================] - 0s 28ms/step - loss: 4.5449 - mean_absolute_error: 1.6413 - val_loss: 6.0845 - val_mean_absolute_error: 1.9421\n",
      "Epoch 30/60\n",
      "9/9 [==============================] - 0s 27ms/step - loss: 4.5307 - mean_absolute_error: 1.6500 - val_loss: 6.0669 - val_mean_absolute_error: 1.9316\n",
      "Epoch 31/60\n",
      "9/9 [==============================] - 0s 28ms/step - loss: 4.6028 - mean_absolute_error: 1.5928 - val_loss: 6.0086 - val_mean_absolute_error: 1.8186\n",
      "Epoch 32/60\n",
      "9/9 [==============================] - 0s 27ms/step - loss: 4.5114 - mean_absolute_error: 1.5728 - val_loss: 6.0157 - val_mean_absolute_error: 1.8798\n",
      "Epoch 33/60\n",
      "9/9 [==============================] - 0s 27ms/step - loss: 4.5589 - mean_absolute_error: 1.6617 - val_loss: 6.0786 - val_mean_absolute_error: 1.9566\n",
      "Epoch 34/60\n",
      "9/9 [==============================] - 0s 27ms/step - loss: 4.4744 - mean_absolute_error: 1.5970 - val_loss: 5.9882 - val_mean_absolute_error: 1.8429\n",
      "Epoch 35/60\n",
      "9/9 [==============================] - 0s 28ms/step - loss: 4.5686 - mean_absolute_error: 1.6088 - val_loss: 5.9964 - val_mean_absolute_error: 1.8781\n",
      "Epoch 36/60\n",
      "9/9 [==============================] - 0s 28ms/step - loss: 4.4732 - mean_absolute_error: 1.5729 - val_loss: 5.9766 - val_mean_absolute_error: 1.8351\n",
      "Epoch 37/60\n",
      "9/9 [==============================] - 0s 28ms/step - loss: 4.4444 - mean_absolute_error: 1.5740 - val_loss: 5.9978 - val_mean_absolute_error: 1.8969\n",
      "Epoch 38/60\n",
      "9/9 [==============================] - 0s 27ms/step - loss: 4.4614 - mean_absolute_error: 1.6302 - val_loss: 6.0099 - val_mean_absolute_error: 1.9202\n",
      "Epoch 39/60\n",
      "9/9 [==============================] - 0s 27ms/step - loss: 4.4516 - mean_absolute_error: 1.5888 - val_loss: 5.9552 - val_mean_absolute_error: 1.8240\n",
      "Epoch 40/60\n",
      "9/9 [==============================] - 0s 28ms/step - loss: 4.4292 - mean_absolute_error: 1.5598 - val_loss: 5.9487 - val_mean_absolute_error: 1.8308\n",
      "Epoch 41/60\n",
      "9/9 [==============================] - 0s 28ms/step - loss: 4.3933 - mean_absolute_error: 1.5828 - val_loss: 5.9852 - val_mean_absolute_error: 1.9119\n",
      "Epoch 42/60\n",
      "9/9 [==============================] - 0s 28ms/step - loss: 4.3850 - mean_absolute_error: 1.6140 - val_loss: 5.9642 - val_mean_absolute_error: 1.8947\n",
      "Epoch 43/60\n",
      "9/9 [==============================] - 0s 28ms/step - loss: 4.3943 - mean_absolute_error: 1.5815 - val_loss: 5.9401 - val_mean_absolute_error: 1.8702\n",
      "Epoch 44/60\n",
      "9/9 [==============================] - 0s 29ms/step - loss: 4.3882 - mean_absolute_error: 1.6100 - val_loss: 5.9355 - val_mean_absolute_error: 1.8756\n",
      "Epoch 45/60\n",
      "9/9 [==============================] - 0s 39ms/step - loss: 4.3965 - mean_absolute_error: 1.5814 - val_loss: 5.9368 - val_mean_absolute_error: 1.8874\n",
      "Epoch 46/60\n",
      "9/9 [==============================] - 0s 39ms/step - loss: 4.3396 - mean_absolute_error: 1.5712 - val_loss: 5.9067 - val_mean_absolute_error: 1.8501\n",
      "Epoch 47/60\n",
      "9/9 [==============================] - 1s 70ms/step - loss: 4.3795 - mean_absolute_error: 1.5695 - val_loss: 5.9103 - val_mean_absolute_error: 1.8731\n",
      "Epoch 48/60\n",
      "9/9 [==============================] - 0s 43ms/step - loss: 4.3763 - mean_absolute_error: 1.6234 - val_loss: 5.9163 - val_mean_absolute_error: 1.8932\n",
      "Epoch 49/60\n",
      "9/9 [==============================] - 0s 30ms/step - loss: 4.2679 - mean_absolute_error: 1.5536 - val_loss: 5.8779 - val_mean_absolute_error: 1.8393\n",
      "Epoch 50/60\n",
      "9/9 [==============================] - 0s 24ms/step - loss: 4.2711 - mean_absolute_error: 1.6061 - val_loss: 5.9330 - val_mean_absolute_error: 1.9259\n",
      "Epoch 51/60\n",
      "9/9 [==============================] - 0s 24ms/step - loss: 4.2301 - mean_absolute_error: 1.6052 - val_loss: 5.8724 - val_mean_absolute_error: 1.8689\n",
      "Epoch 52/60\n",
      "9/9 [==============================] - 0s 24ms/step - loss: 4.1748 - mean_absolute_error: 1.5563 - val_loss: 5.8408 - val_mean_absolute_error: 1.8026\n",
      "Epoch 53/60\n",
      "9/9 [==============================] - 0s 24ms/step - loss: 4.2451 - mean_absolute_error: 1.5147 - val_loss: 5.8331 - val_mean_absolute_error: 1.8250\n",
      "Epoch 54/60\n",
      "9/9 [==============================] - 0s 24ms/step - loss: 4.0945 - mean_absolute_error: 1.5546 - val_loss: 5.9638 - val_mean_absolute_error: 1.9702\n",
      "Epoch 55/60\n",
      "9/9 [==============================] - 0s 26ms/step - loss: 4.3307 - mean_absolute_error: 1.6838 - val_loss: 5.8185 - val_mean_absolute_error: 1.8435\n",
      "Epoch 56/60\n",
      "9/9 [==============================] - 0s 26ms/step - loss: 4.1169 - mean_absolute_error: 1.5156 - val_loss: 5.8243 - val_mean_absolute_error: 1.7397\n",
      "Epoch 57/60\n",
      "9/9 [==============================] - 0s 27ms/step - loss: 4.1858 - mean_absolute_error: 1.4910 - val_loss: 5.7870 - val_mean_absolute_error: 1.8067\n",
      "Epoch 58/60\n",
      "9/9 [==============================] - 0s 28ms/step - loss: 4.0796 - mean_absolute_error: 1.5942 - val_loss: 6.0386 - val_mean_absolute_error: 2.0255\n",
      "Epoch 59/60\n",
      "9/9 [==============================] - 0s 30ms/step - loss: 4.0870 - mean_absolute_error: 1.5838 - val_loss: 5.7652 - val_mean_absolute_error: 1.7557\n",
      "Epoch 60/60\n",
      "9/9 [==============================] - 0s 30ms/step - loss: 4.1470 - mean_absolute_error: 1.5428 - val_loss: 5.7750 - val_mean_absolute_error: 1.8726\n",
      "1/1 [==============================] - 0s 22ms/step - loss: 5.7750 - mean_absolute_error: 1.8726\n",
      "Epoch 1/60\n",
      "9/9 [==============================] - 0s 30ms/step - loss: 28.9520 - mean_absolute_error: 4.8563 - val_loss: 21.4261 - val_mean_absolute_error: 4.2191\n",
      "Epoch 2/60\n",
      "9/9 [==============================] - 0s 29ms/step - loss: 20.7966 - mean_absolute_error: 3.8460 - val_loss: 11.5625 - val_mean_absolute_error: 2.7878\n",
      "Epoch 3/60\n",
      "9/9 [==============================] - 0s 28ms/step - loss: 10.6731 - mean_absolute_error: 2.2249 - val_loss: 4.2709 - val_mean_absolute_error: 1.4197\n",
      "Epoch 4/60\n",
      "9/9 [==============================] - 0s 29ms/step - loss: 6.6022 - mean_absolute_error: 2.0936 - val_loss: 5.7827 - val_mean_absolute_error: 2.0483\n",
      "Epoch 5/60\n",
      "9/9 [==============================] - 0s 32ms/step - loss: 6.2728 - mean_absolute_error: 2.1267 - val_loss: 4.3768 - val_mean_absolute_error: 1.6003\n",
      "Epoch 6/60\n",
      "9/9 [==============================] - 0s 29ms/step - loss: 5.7945 - mean_absolute_error: 1.7885 - val_loss: 4.1513 - val_mean_absolute_error: 1.4322\n",
      "Epoch 7/60\n",
      "9/9 [==============================] - 0s 29ms/step - loss: 5.9585 - mean_absolute_error: 1.7264 - val_loss: 4.1208 - val_mean_absolute_error: 1.4610\n",
      "Epoch 8/60\n",
      "9/9 [==============================] - 0s 40ms/step - loss: 5.7998 - mean_absolute_error: 1.8414 - val_loss: 4.2593 - val_mean_absolute_error: 1.5616\n",
      "Epoch 9/60\n",
      "9/9 [==============================] - 0s 48ms/step - loss: 5.8193 - mean_absolute_error: 1.9313 - val_loss: 4.2875 - val_mean_absolute_error: 1.5770\n",
      "Epoch 10/60\n",
      "9/9 [==============================] - 0s 25ms/step - loss: 5.7462 - mean_absolute_error: 1.8892 - val_loss: 4.1537 - val_mean_absolute_error: 1.5100\n",
      "Epoch 11/60\n",
      "9/9 [==============================] - 0s 24ms/step - loss: 5.8396 - mean_absolute_error: 1.8598 - val_loss: 4.1838 - val_mean_absolute_error: 1.5329\n",
      "Epoch 12/60\n",
      "9/9 [==============================] - 0s 25ms/step - loss: 5.7512 - mean_absolute_error: 1.8145 - val_loss: 4.0953 - val_mean_absolute_error: 1.4698\n",
      "Epoch 13/60\n",
      "9/9 [==============================] - 0s 24ms/step - loss: 5.7497 - mean_absolute_error: 1.7906 - val_loss: 4.1253 - val_mean_absolute_error: 1.5035\n",
      "Epoch 14/60\n",
      "9/9 [==============================] - 0s 24ms/step - loss: 5.9202 - mean_absolute_error: 1.9452 - val_loss: 4.4072 - val_mean_absolute_error: 1.6445\n",
      "Epoch 15/60\n",
      "9/9 [==============================] - 0s 24ms/step - loss: 5.6494 - mean_absolute_error: 1.8479 - val_loss: 4.0846 - val_mean_absolute_error: 1.4790\n",
      "Epoch 16/60\n",
      "9/9 [==============================] - 0s 25ms/step - loss: 5.7543 - mean_absolute_error: 1.7578 - val_loss: 4.0662 - val_mean_absolute_error: 1.4577\n",
      "Epoch 17/60\n",
      "9/9 [==============================] - 0s 24ms/step - loss: 5.7628 - mean_absolute_error: 1.8620 - val_loss: 4.3134 - val_mean_absolute_error: 1.6052\n",
      "Epoch 18/60\n",
      "9/9 [==============================] - 0s 24ms/step - loss: 5.7368 - mean_absolute_error: 1.8692 - val_loss: 4.0832 - val_mean_absolute_error: 1.4920\n",
      "Epoch 19/60\n",
      "9/9 [==============================] - 0s 24ms/step - loss: 5.6953 - mean_absolute_error: 1.8694 - val_loss: 4.2311 - val_mean_absolute_error: 1.5769\n",
      "Epoch 20/60\n",
      "9/9 [==============================] - 0s 38ms/step - loss: 5.6473 - mean_absolute_error: 1.8935 - val_loss: 4.1360 - val_mean_absolute_error: 1.5325\n",
      "Epoch 21/60\n",
      "9/9 [==============================] - 0s 27ms/step - loss: 5.9882 - mean_absolute_error: 1.8076 - val_loss: 4.0596 - val_mean_absolute_error: 1.4357\n",
      "Epoch 22/60\n",
      "9/9 [==============================] - 0s 25ms/step - loss: 5.5502 - mean_absolute_error: 1.7884 - val_loss: 4.2397 - val_mean_absolute_error: 1.5854\n",
      "Epoch 23/60\n",
      "9/9 [==============================] - 0s 24ms/step - loss: 5.7369 - mean_absolute_error: 1.9660 - val_loss: 4.3727 - val_mean_absolute_error: 1.6494\n",
      "Epoch 24/60\n",
      "9/9 [==============================] - 0s 24ms/step - loss: 5.7854 - mean_absolute_error: 1.9489 - val_loss: 4.0749 - val_mean_absolute_error: 1.5036\n",
      "Epoch 25/60\n",
      "9/9 [==============================] - 0s 24ms/step - loss: 5.6329 - mean_absolute_error: 1.8541 - val_loss: 4.1191 - val_mean_absolute_error: 1.5342\n",
      "Epoch 26/60\n",
      "9/9 [==============================] - 0s 24ms/step - loss: 5.6214 - mean_absolute_error: 1.8620 - val_loss: 4.1508 - val_mean_absolute_error: 1.5534\n",
      "Epoch 27/60\n",
      "9/9 [==============================] - 0s 24ms/step - loss: 5.5976 - mean_absolute_error: 1.7885 - val_loss: 4.0198 - val_mean_absolute_error: 1.4602\n",
      "Epoch 28/60\n",
      "9/9 [==============================] - 0s 24ms/step - loss: 5.6258 - mean_absolute_error: 1.8366 - val_loss: 4.1498 - val_mean_absolute_error: 1.5558\n",
      "Epoch 29/60\n",
      "9/9 [==============================] - 0s 24ms/step - loss: 5.7039 - mean_absolute_error: 1.8901 - val_loss: 4.0195 - val_mean_absolute_error: 1.4678\n",
      "Epoch 30/60\n",
      "9/9 [==============================] - 0s 24ms/step - loss: 5.5694 - mean_absolute_error: 1.8152 - val_loss: 4.1078 - val_mean_absolute_error: 1.5369\n",
      "Epoch 31/60\n",
      "9/9 [==============================] - 0s 24ms/step - loss: 5.5461 - mean_absolute_error: 1.8741 - val_loss: 4.0797 - val_mean_absolute_error: 1.5219\n",
      "Epoch 32/60\n",
      "9/9 [==============================] - 0s 24ms/step - loss: 5.5374 - mean_absolute_error: 1.7951 - val_loss: 4.0174 - val_mean_absolute_error: 1.4774\n",
      "Epoch 33/60\n",
      "9/9 [==============================] - 0s 24ms/step - loss: 5.5418 - mean_absolute_error: 1.7821 - val_loss: 4.0501 - val_mean_absolute_error: 1.5055\n",
      "Epoch 34/60\n",
      "9/9 [==============================] - 0s 24ms/step - loss: 5.5626 - mean_absolute_error: 1.8940 - val_loss: 4.2195 - val_mean_absolute_error: 1.5943\n",
      "Epoch 35/60\n",
      "9/9 [==============================] - 0s 24ms/step - loss: 5.5952 - mean_absolute_error: 1.8605 - val_loss: 4.0044 - val_mean_absolute_error: 1.4687\n",
      "Epoch 36/60\n",
      "9/9 [==============================] - 0s 24ms/step - loss: 5.4516 - mean_absolute_error: 1.7968 - val_loss: 4.1278 - val_mean_absolute_error: 1.5551\n",
      "Epoch 37/60\n",
      "9/9 [==============================] - 0s 24ms/step - loss: 5.4848 - mean_absolute_error: 1.8715 - val_loss: 4.1172 - val_mean_absolute_error: 1.5510\n",
      "Epoch 38/60\n",
      "9/9 [==============================] - 0s 24ms/step - loss: 5.5536 - mean_absolute_error: 1.8011 - val_loss: 3.9921 - val_mean_absolute_error: 1.4584\n",
      "Epoch 39/60\n",
      "9/9 [==============================] - 0s 24ms/step - loss: 5.5457 - mean_absolute_error: 1.8445 - val_loss: 4.1627 - val_mean_absolute_error: 1.5736\n",
      "Epoch 40/60\n",
      "9/9 [==============================] - 0s 24ms/step - loss: 5.7098 - mean_absolute_error: 1.9533 - val_loss: 4.0398 - val_mean_absolute_error: 1.5080\n",
      "Epoch 41/60\n",
      "9/9 [==============================] - 0s 24ms/step - loss: 5.4090 - mean_absolute_error: 1.7917 - val_loss: 4.0012 - val_mean_absolute_error: 1.4783\n",
      "Epoch 42/60\n",
      "9/9 [==============================] - 0s 36ms/step - loss: 5.4214 - mean_absolute_error: 1.7593 - val_loss: 3.9957 - val_mean_absolute_error: 1.4736\n",
      "Epoch 43/60\n",
      "9/9 [==============================] - 0s 25ms/step - loss: 5.7574 - mean_absolute_error: 1.9522 - val_loss: 4.3295 - val_mean_absolute_error: 1.6541\n",
      "Epoch 44/60\n",
      "9/9 [==============================] - 0s 25ms/step - loss: 5.3834 - mean_absolute_error: 1.8057 - val_loss: 4.0006 - val_mean_absolute_error: 1.4321\n",
      "Epoch 45/60\n",
      "9/9 [==============================] - 0s 30ms/step - loss: 5.4792 - mean_absolute_error: 1.7570 - val_loss: 4.0110 - val_mean_absolute_error: 1.4878\n",
      "Epoch 46/60\n",
      "9/9 [==============================] - 0s 37ms/step - loss: 5.4422 - mean_absolute_error: 1.7666 - val_loss: 4.0093 - val_mean_absolute_error: 1.4895\n",
      "Epoch 47/60\n",
      "9/9 [==============================] - 0s 28ms/step - loss: 5.4657 - mean_absolute_error: 1.8867 - val_loss: 4.4736 - val_mean_absolute_error: 1.7200\n",
      "Epoch 48/60\n",
      "9/9 [==============================] - 0s 27ms/step - loss: 5.6573 - mean_absolute_error: 1.8675 - val_loss: 3.9806 - val_mean_absolute_error: 1.4433\n",
      "Epoch 49/60\n",
      "9/9 [==============================] - 0s 26ms/step - loss: 5.4222 - mean_absolute_error: 1.7495 - val_loss: 4.1285 - val_mean_absolute_error: 1.5632\n",
      "Epoch 50/60\n",
      "9/9 [==============================] - 0s 24ms/step - loss: 5.3354 - mean_absolute_error: 1.8440 - val_loss: 4.0676 - val_mean_absolute_error: 1.5325\n",
      "Epoch 51/60\n",
      "9/9 [==============================] - 0s 24ms/step - loss: 5.3419 - mean_absolute_error: 1.8576 - val_loss: 4.0430 - val_mean_absolute_error: 1.5185\n",
      "Epoch 52/60\n",
      "9/9 [==============================] - 0s 26ms/step - loss: 5.2955 - mean_absolute_error: 1.8249 - val_loss: 4.0346 - val_mean_absolute_error: 1.5149\n",
      "Epoch 53/60\n",
      "9/9 [==============================] - 0s 27ms/step - loss: 5.3149 - mean_absolute_error: 1.7549 - val_loss: 3.9691 - val_mean_absolute_error: 1.4544\n",
      "Epoch 54/60\n",
      "9/9 [==============================] - 0s 30ms/step - loss: 5.3664 - mean_absolute_error: 1.7210 - val_loss: 3.9976 - val_mean_absolute_error: 1.4826\n",
      "Epoch 55/60\n",
      "9/9 [==============================] - 0s 35ms/step - loss: 5.2174 - mean_absolute_error: 1.8092 - val_loss: 4.1918 - val_mean_absolute_error: 1.6014\n",
      "Epoch 56/60\n",
      "9/9 [==============================] - 0s 30ms/step - loss: 5.2928 - mean_absolute_error: 1.8438 - val_loss: 4.0043 - val_mean_absolute_error: 1.4938\n",
      "Epoch 57/60\n",
      "9/9 [==============================] - 0s 27ms/step - loss: 5.2272 - mean_absolute_error: 1.7573 - val_loss: 4.0115 - val_mean_absolute_error: 1.4997\n",
      "Epoch 58/60\n",
      "9/9 [==============================] - 0s 28ms/step - loss: 5.1962 - mean_absolute_error: 1.8278 - val_loss: 4.1496 - val_mean_absolute_error: 1.5853\n",
      "Epoch 59/60\n",
      "9/9 [==============================] - 0s 28ms/step - loss: 5.3366 - mean_absolute_error: 1.8278 - val_loss: 3.9964 - val_mean_absolute_error: 1.4911\n",
      "Epoch 60/60\n",
      "9/9 [==============================] - 0s 26ms/step - loss: 6.0458 - mean_absolute_error: 2.0985 - val_loss: 4.3938 - val_mean_absolute_error: 1.6961\n",
      "1/1 [==============================] - 0s 18ms/step - loss: 4.3938 - mean_absolute_error: 1.6961\n",
      "Epoch 1/60\n",
      "9/9 [==============================] - 0s 55ms/step - loss: 27.3713 - mean_absolute_error: 4.7416 - val_loss: 27.3430 - val_mean_absolute_error: 4.7720\n",
      "Epoch 2/60\n",
      "9/9 [==============================] - 0s 30ms/step - loss: 19.8957 - mean_absolute_error: 3.8291 - val_loss: 16.9685 - val_mean_absolute_error: 3.4985\n",
      "Epoch 3/60\n",
      "9/9 [==============================] - 0s 25ms/step - loss: 10.0287 - mean_absolute_error: 2.2962 - val_loss: 6.5545 - val_mean_absolute_error: 1.7540\n",
      "Epoch 4/60\n",
      "9/9 [==============================] - 0s 27ms/step - loss: 5.5323 - mean_absolute_error: 1.7300 - val_loss: 5.5799 - val_mean_absolute_error: 2.0173\n",
      "Epoch 5/60\n",
      "9/9 [==============================] - 0s 27ms/step - loss: 5.8458 - mean_absolute_error: 1.9470 - val_loss: 5.3778 - val_mean_absolute_error: 1.7293\n",
      "Epoch 6/60\n",
      "9/9 [==============================] - 0s 25ms/step - loss: 5.3956 - mean_absolute_error: 1.5769 - val_loss: 6.1298 - val_mean_absolute_error: 1.6843\n",
      "Epoch 7/60\n",
      "9/9 [==============================] - 0s 25ms/step - loss: 5.3851 - mean_absolute_error: 1.6195 - val_loss: 5.3680 - val_mean_absolute_error: 1.7255\n",
      "Epoch 8/60\n",
      "9/9 [==============================] - 0s 27ms/step - loss: 5.1991 - mean_absolute_error: 1.6695 - val_loss: 5.3608 - val_mean_absolute_error: 1.7244\n",
      "Epoch 9/60\n",
      "9/9 [==============================] - 0s 28ms/step - loss: 5.2118 - mean_absolute_error: 1.6787 - val_loss: 5.3675 - val_mean_absolute_error: 1.7202\n",
      "Epoch 10/60\n",
      "9/9 [==============================] - 0s 27ms/step - loss: 5.1793 - mean_absolute_error: 1.6495 - val_loss: 5.5010 - val_mean_absolute_error: 1.6926\n",
      "Epoch 11/60\n",
      "9/9 [==============================] - 0s 27ms/step - loss: 5.2147 - mean_absolute_error: 1.6278 - val_loss: 5.5253 - val_mean_absolute_error: 1.6868\n",
      "Epoch 12/60\n",
      "9/9 [==============================] - 0s 27ms/step - loss: 5.1764 - mean_absolute_error: 1.6178 - val_loss: 5.4041 - val_mean_absolute_error: 1.7052\n",
      "Epoch 13/60\n",
      "9/9 [==============================] - 0s 28ms/step - loss: 5.4903 - mean_absolute_error: 1.7993 - val_loss: 5.1584 - val_mean_absolute_error: 1.8007\n",
      "Epoch 14/60\n",
      "9/9 [==============================] - 0s 46ms/step - loss: 5.2467 - mean_absolute_error: 1.7075 - val_loss: 5.6071 - val_mean_absolute_error: 1.6697\n",
      "Epoch 15/60\n",
      "9/9 [==============================] - 0s 29ms/step - loss: 5.1856 - mean_absolute_error: 1.5891 - val_loss: 5.5368 - val_mean_absolute_error: 1.6780\n",
      "Epoch 16/60\n",
      "9/9 [==============================] - 0s 24ms/step - loss: 5.1964 - mean_absolute_error: 1.6550 - val_loss: 5.2560 - val_mean_absolute_error: 1.7277\n",
      "Epoch 17/60\n",
      "9/9 [==============================] - 0s 25ms/step - loss: 5.1519 - mean_absolute_error: 1.6757 - val_loss: 5.3431 - val_mean_absolute_error: 1.7061\n",
      "Epoch 18/60\n",
      "9/9 [==============================] - 0s 24ms/step - loss: 5.2783 - mean_absolute_error: 1.6407 - val_loss: 5.5912 - val_mean_absolute_error: 1.6651\n",
      "Epoch 19/60\n",
      "9/9 [==============================] - 0s 24ms/step - loss: 5.1834 - mean_absolute_error: 1.6733 - val_loss: 5.1556 - val_mean_absolute_error: 1.7527\n",
      "Epoch 20/60\n",
      "9/9 [==============================] - 0s 24ms/step - loss: 5.1305 - mean_absolute_error: 1.7230 - val_loss: 5.2132 - val_mean_absolute_error: 1.7283\n",
      "Epoch 21/60\n",
      "9/9 [==============================] - 0s 24ms/step - loss: 5.5457 - mean_absolute_error: 1.6495 - val_loss: 6.0234 - val_mean_absolute_error: 1.6824\n",
      "Epoch 22/60\n",
      "9/9 [==============================] - 0s 37ms/step - loss: 5.2242 - mean_absolute_error: 1.5774 - val_loss: 5.1745 - val_mean_absolute_error: 1.7365\n",
      "Epoch 23/60\n",
      "9/9 [==============================] - 0s 28ms/step - loss: 5.0866 - mean_absolute_error: 1.7026 - val_loss: 5.1642 - val_mean_absolute_error: 1.7363\n",
      "Epoch 24/60\n",
      "9/9 [==============================] - 0s 25ms/step - loss: 5.0809 - mean_absolute_error: 1.6940 - val_loss: 5.4101 - val_mean_absolute_error: 1.6822\n",
      "Epoch 25/60\n",
      "9/9 [==============================] - 0s 25ms/step - loss: 5.2622 - mean_absolute_error: 1.5841 - val_loss: 5.6087 - val_mean_absolute_error: 1.6580\n",
      "Epoch 26/60\n",
      "9/9 [==============================] - 0s 26ms/step - loss: 5.0733 - mean_absolute_error: 1.6652 - val_loss: 5.1128 - val_mean_absolute_error: 1.7486\n",
      "Epoch 27/60\n",
      "9/9 [==============================] - 0s 24ms/step - loss: 5.0581 - mean_absolute_error: 1.7165 - val_loss: 5.2031 - val_mean_absolute_error: 1.7150\n",
      "Epoch 28/60\n",
      "9/9 [==============================] - 0s 24ms/step - loss: 4.9904 - mean_absolute_error: 1.6417 - val_loss: 5.3582 - val_mean_absolute_error: 1.6837\n",
      "Epoch 29/60\n",
      "9/9 [==============================] - 0s 24ms/step - loss: 5.0266 - mean_absolute_error: 1.5920 - val_loss: 5.5015 - val_mean_absolute_error: 1.6607\n",
      "Epoch 30/60\n",
      "9/9 [==============================] - 0s 24ms/step - loss: 5.0909 - mean_absolute_error: 1.5868 - val_loss: 5.2921 - val_mean_absolute_error: 1.6919\n",
      "Epoch 31/60\n",
      "9/9 [==============================] - 0s 24ms/step - loss: 5.1395 - mean_absolute_error: 1.7085 - val_loss: 5.1098 - val_mean_absolute_error: 1.7299\n",
      "Epoch 32/60\n",
      "9/9 [==============================] - 0s 26ms/step - loss: 5.1274 - mean_absolute_error: 1.6235 - val_loss: 5.4385 - val_mean_absolute_error: 1.6649\n",
      "Epoch 33/60\n",
      "9/9 [==============================] - 0s 24ms/step - loss: 4.9988 - mean_absolute_error: 1.6156 - val_loss: 5.2611 - val_mean_absolute_error: 1.6911\n",
      "Epoch 34/60\n",
      "9/9 [==============================] - 0s 24ms/step - loss: 5.1080 - mean_absolute_error: 1.7140 - val_loss: 5.0720 - val_mean_absolute_error: 1.7339\n",
      "Epoch 35/60\n",
      "9/9 [==============================] - 0s 25ms/step - loss: 4.9725 - mean_absolute_error: 1.6831 - val_loss: 5.2582 - val_mean_absolute_error: 1.6869\n",
      "Epoch 36/60\n",
      "9/9 [==============================] - 0s 26ms/step - loss: 5.0725 - mean_absolute_error: 1.6721 - val_loss: 5.2486 - val_mean_absolute_error: 1.6861\n",
      "Epoch 37/60\n",
      "9/9 [==============================] - 0s 24ms/step - loss: 4.9416 - mean_absolute_error: 1.6027 - val_loss: 5.4009 - val_mean_absolute_error: 1.6615\n",
      "Epoch 38/60\n",
      "9/9 [==============================] - 0s 25ms/step - loss: 5.0152 - mean_absolute_error: 1.5816 - val_loss: 5.3234 - val_mean_absolute_error: 1.6723\n",
      "Epoch 39/60\n",
      "9/9 [==============================] - 0s 28ms/step - loss: 4.9649 - mean_absolute_error: 1.6247 - val_loss: 5.1954 - val_mean_absolute_error: 1.6907\n",
      "Epoch 40/60\n",
      "9/9 [==============================] - 0s 37ms/step - loss: 4.9623 - mean_absolute_error: 1.6264 - val_loss: 5.1060 - val_mean_absolute_error: 1.7064\n",
      "Epoch 41/60\n",
      "9/9 [==============================] - 0s 29ms/step - loss: 5.0392 - mean_absolute_error: 1.7003 - val_loss: 5.1099 - val_mean_absolute_error: 1.7030\n",
      "Epoch 42/60\n",
      "9/9 [==============================] - 0s 24ms/step - loss: 4.9505 - mean_absolute_error: 1.5698 - val_loss: 5.5491 - val_mean_absolute_error: 1.6427\n",
      "Epoch 43/60\n",
      "9/9 [==============================] - 0s 39ms/step - loss: 4.9073 - mean_absolute_error: 1.5681 - val_loss: 5.1057 - val_mean_absolute_error: 1.7011\n",
      "Epoch 44/60\n",
      "9/9 [==============================] - 0s 32ms/step - loss: 4.9516 - mean_absolute_error: 1.6883 - val_loss: 5.0349 - val_mean_absolute_error: 1.7136\n",
      "Epoch 45/60\n",
      "9/9 [==============================] - 0s 25ms/step - loss: 5.0242 - mean_absolute_error: 1.6774 - val_loss: 5.0341 - val_mean_absolute_error: 1.7104\n",
      "Epoch 46/60\n",
      "9/9 [==============================] - 0s 24ms/step - loss: 4.9385 - mean_absolute_error: 1.6141 - val_loss: 5.2912 - val_mean_absolute_error: 1.6587\n",
      "Epoch 47/60\n",
      "9/9 [==============================] - 0s 24ms/step - loss: 4.9089 - mean_absolute_error: 1.6327 - val_loss: 5.0261 - val_mean_absolute_error: 1.7059\n",
      "Epoch 48/60\n",
      "9/9 [==============================] - 0s 24ms/step - loss: 4.8931 - mean_absolute_error: 1.6674 - val_loss: 5.0788 - val_mean_absolute_error: 1.6908\n",
      "Epoch 49/60\n",
      "9/9 [==============================] - 0s 24ms/step - loss: 4.9509 - mean_absolute_error: 1.6530 - val_loss: 5.0799 - val_mean_absolute_error: 1.6867\n",
      "Epoch 50/60\n",
      "9/9 [==============================] - 0s 24ms/step - loss: 4.8831 - mean_absolute_error: 1.6526 - val_loss: 5.1014 - val_mean_absolute_error: 1.6789\n",
      "Epoch 51/60\n",
      "9/9 [==============================] - 0s 24ms/step - loss: 4.9452 - mean_absolute_error: 1.5795 - val_loss: 5.4488 - val_mean_absolute_error: 1.6338\n",
      "Epoch 52/60\n",
      "9/9 [==============================] - 0s 24ms/step - loss: 4.8762 - mean_absolute_error: 1.5898 - val_loss: 5.0065 - val_mean_absolute_error: 1.6989\n",
      "Epoch 53/60\n",
      "9/9 [==============================] - 0s 24ms/step - loss: 4.9351 - mean_absolute_error: 1.6816 - val_loss: 5.1308 - val_mean_absolute_error: 1.6683\n",
      "Epoch 54/60\n",
      "9/9 [==============================] - 0s 24ms/step - loss: 4.8516 - mean_absolute_error: 1.6124 - val_loss: 5.1177 - val_mean_absolute_error: 1.6669\n",
      "Epoch 55/60\n",
      "9/9 [==============================] - 0s 24ms/step - loss: 4.8765 - mean_absolute_error: 1.5920 - val_loss: 5.1593 - val_mean_absolute_error: 1.6558\n",
      "Epoch 56/60\n",
      "9/9 [==============================] - 0s 24ms/step - loss: 4.9288 - mean_absolute_error: 1.6400 - val_loss: 4.9147 - val_mean_absolute_error: 1.7083\n",
      "Epoch 57/60\n",
      "9/9 [==============================] - 0s 24ms/step - loss: 4.8551 - mean_absolute_error: 1.6444 - val_loss: 5.0712 - val_mean_absolute_error: 1.6647\n",
      "Epoch 58/60\n",
      "9/9 [==============================] - 0s 24ms/step - loss: 4.8629 - mean_absolute_error: 1.6074 - val_loss: 5.1739 - val_mean_absolute_error: 1.6443\n",
      "Epoch 59/60\n",
      "9/9 [==============================] - 0s 24ms/step - loss: 5.4182 - mean_absolute_error: 1.8331 - val_loss: 4.8164 - val_mean_absolute_error: 1.7505\n",
      "Epoch 60/60\n",
      "9/9 [==============================] - 0s 24ms/step - loss: 5.1533 - mean_absolute_error: 1.6110 - val_loss: 5.7969 - val_mean_absolute_error: 1.6629\n",
      "1/1 [==============================] - 0s 19ms/step - loss: 5.7969 - mean_absolute_error: 1.6629\n"
     ]
    }
   ],
   "source": [
    "model, history, evaluations = evaluate_model(model,n_label,n_split=3,shuffle=True,random_state=42)"
   ]
  },
  {
   "cell_type": "code",
   "execution_count": 193,
   "metadata": {},
   "outputs": [
    {
     "data": {
      "text/plain": [
       "dict_keys(['loss', 'mean_absolute_error', 'val_loss', 'val_mean_absolute_error'])"
      ]
     },
     "execution_count": 193,
     "metadata": {},
     "output_type": "execute_result"
    }
   ],
   "source": [
    "history[0].history.keys()"
   ]
  },
  {
   "cell_type": "code",
   "execution_count": 219,
   "metadata": {},
   "outputs": [
    {
     "data": {
      "image/png": "[encoded data removed]",
      "text/plain": [
       "<Figure size 640x480 with 1 Axes>"
      ]
     },
     "metadata": {},
     "output_type": "display_data"
    }
   ],
   "source": [
    "import matplotlib.pyplot as plt\n",
    "# for i in range(len(history)):\n",
    "i=1\n",
    "plt.plot(history[i].history[\"val_loss\"])\n",
    "# plt.ylim(0, 20)\n",
    "plt.show()"
   ]
  },
  {
   "cell_type": "code",
   "execution_count": 200,
   "metadata": {},
   "outputs": [
    {
     "data": {
      "text/plain": [
       "Array([[171, 163, 153, ..., 137, 137, 134],\n",
       "       [186, 185, 185, ..., 183, 181, 182],\n",
       "       [188, 188, 185, ..., 187, 186, 187],\n",
       "       ...,\n",
       "       [171, 170, 169, ..., 144, 142, 143],\n",
       "       [142, 148, 146, ..., 172, 173, 171],\n",
       "       [180, 182, 184, ..., 182, 182, 182]], dtype=uint8)"
      ]
     },
     "execution_count": 200,
     "metadata": {},
     "output_type": "execute_result"
    }
   ],
   "source": [
    "def plot_against(model, test_feature, test_label):\n",
    "    predicted = model.predict(test_feature)\n",
    "    plt.scatter(test_label, predicted, marker=\"o\")\n",
    "    plt.plot([0, 12], [0, 12])\n",
    "    plt.xlim(2, 8)\n",
    "    plt.ylim(2, 8)\n",
    "test_feature"
   ]
  },
  {
   "cell_type": "markdown",
   "metadata": {},
   "source": [
    "## For hyper tuning\n",
    "\n",
    "https://github.com/keras-team/keras-tuner/tree/master/keras_tuner/tuners"
   ]
  },
  {
   "cell_type": "code",
   "execution_count": null,
   "metadata": {},
   "outputs": [],
   "source": []
  }
 ],
 "metadata": {
  "interpreter": {
   "hash": "5ac19eb75bcf261162520ccd9d5579982c8e385c27a8a3014d1ae342162dd190"
  },
  "kernelspec": {
   "display_name": "Python 3.10.6 ('project')",
   "language": "python",
   "name": "python3"
  },
  "language_info": {
   "codemirror_mode": {
    "name": "ipython",
    "version": 3
   },
   "file_extension": ".py",
   "mimetype": "text/x-python",
   "name": "python",
   "nbconvert_exporter": "python",
   "pygments_lexer": "ipython3",
   "version": "3.10.6"
  },
  "orig_nbformat": 4
 },
 "nbformat": 4,
 "nbformat_minor": 2
}
