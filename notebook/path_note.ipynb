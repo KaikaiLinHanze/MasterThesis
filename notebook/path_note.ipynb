{
 "cells": [
  {
   "cell_type": "code",
   "execution_count": 1,
   "metadata": {},
   "outputs": [
    {
     "name": "stderr",
     "output_type": "stream",
     "text": [
      "/Users/kai/Downloads/graduation/AMFtrack/amftrack/util/dbx.py:3: TqdmExperimentalWarning: Using `tqdm.autonotebook.tqdm` in notebook mode. Use `tqdm.tqdm` instead to force console mode (e.g. in jupyter console)\n",
      "  from tqdm.autonotebook import tqdm\n"
     ]
    }
   ],
   "source": [
    "import os\n",
    "import sys\n",
    "sys.path.append(\"/Users/kai/Downloads/graduation/AMFtrack\")\n",
    "from amftrack.util.sys import storage_path"
   ]
  },
  {
   "cell_type": "code",
   "execution_count": null,
   "metadata": {},
   "outputs": [],
   "source": [
    "# path setting\n",
    "dataset_path = os.path.join(storage_path,\"datasets\")\n",
    "section_path = os.path.join(dataset_path, \"kai_test\")\n",
    "edge_path = os.path.join(dataset_path, \"kai_test\")\n",
    "\n"
   ]
  },
  {
   "cell_type": "code",
   "execution_count": null,
   "metadata": {},
   "outputs": [],
   "source": [
    "def image_path_to_df_path(path: str):\n",
    "    \"\"\"\n",
    "    this function is to change the image path to the df path\n",
    "    for example:    /datasets/kai_test/1122-1227.png\n",
    "                --> /datasets/kai_test/1122-1227.csv\n",
    "    path:str, path\n",
    "    return:str, path\n",
    "    \"\"\"\n",
    "    image_name = os.path.basename(str(path))\n",
    "    image_name_without_ext = os.path.splitext(image_name)[0]\n",
    "    df_name = image_name_without_ext + \".csv\"\n",
    "    edge_data_path = os.path.join(edge_path, df_name)\n",
    "    return edge_data_path\n",
    "image_path_to_df_path()"
   ]
  }
 ],
 "metadata": {
  "interpreter": {
   "hash": "5ac19eb75bcf261162520ccd9d5579982c8e385c27a8a3014d1ae342162dd190"
  },
  "kernelspec": {
   "display_name": "Python 3.10.6 ('project')",
   "language": "python",
   "name": "python3"
  },
  "language_info": {
   "codemirror_mode": {
    "name": "ipython",
    "version": 3
   },
   "file_extension": ".py",
   "mimetype": "text/x-python",
   "name": "python",
   "nbconvert_exporter": "python",
   "pygments_lexer": "ipython3",
   "version": "3.10.6"
  },
  "orig_nbformat": 4
 },
 "nbformat": 4,
 "nbformat_minor": 2
}
