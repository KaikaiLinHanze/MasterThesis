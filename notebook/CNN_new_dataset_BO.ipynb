{
 "cells": [
  {
   "cell_type": "code",
   "execution_count": 17,
   "id": "9637f8f3-9733-4100-81e2-38f34ed03218",
   "metadata": {},
   "outputs": [],
   "source": [
    "import tensorflow as tf\n",
    "import sys, imageio, os\n",
    "sys.path.append(\"/home/ipausers/lin/Desktop/Graduation/Kai/Graduation-Project\")\n",
    "from models.model import *\n",
    "from models.data_prepare import *\n",
    "import keras"
   ]
  },
  {
   "cell_type": "code",
   "execution_count": null,
   "id": "e4d76da0-e72f-491d-b1b3-239f7b070556",
   "metadata": {},
   "outputs": [],
   "source": [
    "def data(select_path):\n",
    "    storage_path = \"/home/ipausers/lin/Desktop/Graduation/Kai/Graduation-Project/datasets\"\n",
    "    path = os.path.join(storage_path,select_path)\n",
    "    im_path = os.path.join(path, \"slices.png\")\n",
    "    label_path = os.path.join(path, \"labels.npy\")\n",
    "    im = imageio.imread(im_path)\n",
    "    with open(label_path, \"rb\") as f:\n",
    "        label = np.load(f)\n",
    "    label = np.expand_dims(label,1)\n",
    "    return im, label"
   ]
  },
  {
   "cell_type": "code",
   "execution_count": 19,
   "id": "fdd46e63-bdfd-420a-866b-f774f469e306",
   "metadata": {},
   "outputs": [],
   "source": [
    "X, y = data(\"vary_width\")\n",
    "X_train_new, X_test_new, y_train_new, y_test_new = train_test_split(X, y, test_size=0.3, random_state=42,shuffle=True)"
   ]
  },
  {
   "cell_type": "code",
   "execution_count": 5,
   "id": "65151fee-fbbb-4ed0-8569-f3f945c324b9",
   "metadata": {},
   "outputs": [
    {
     "data": {
      "image/png": "[encoded data removed]",
      "text/plain": [
       "<Figure size 432x288 with 1 Axes>"
      ]
     },
     "metadata": {
      "needs_background": "light"
     },
     "output_type": "display_data"
    }
   ],
   "source": [
    "import matplotlib.pyplot as plt\n",
    "plt.hist(y_train_new,label=\"Train\")\n",
    "plt.hist(y_test_new,label=\"Test\")\n",
    "plt.legend()\n",
    "plt.show()"
   ]
  },
  {
   "cell_type": "code",
   "execution_count": 6,
   "id": "aea1e150-e066-410e-95b6-44b97b896762",
   "metadata": {},
   "outputs": [
    {
     "name": "stderr",
     "output_type": "stream",
     "text": [
      "2022-12-05 09:19:11.917827: W tensorflow/compiler/xla/stream_executor/platform/default/dso_loader.cc:64] Could not load dynamic library 'libcuda.so.1'; dlerror: libcuda.so.1: cannot open shared object file: No such file or directory\n",
      "2022-12-05 09:19:11.917845: W tensorflow/compiler/xla/stream_executor/cuda/cuda_driver.cc:265] failed call to cuInit: UNKNOWN ERROR (303)\n",
      "2022-12-05 09:19:11.917859: I tensorflow/compiler/xla/stream_executor/cuda/cuda_diagnostics.cc:156] kernel driver does not appear to be running on this host (morricone.ipa.amolf.nl): /proc/driver/nvidia/version does not exist\n",
      "2022-12-05 09:19:11.918008: I tensorflow/core/platform/cpu_feature_guard.cc:193] This TensorFlow binary is optimized with oneAPI Deep Neural Network Library (oneDNN) to use the following CPU instructions in performance-critical operations:  AVX2 FMA\n",
      "To enable them in other operations, rebuild TensorFlow with the appropriate compiler flags.\n"
     ]
    },
    {
     "data": {
      "text/plain": [
       "(TensorShape([379, 100, 1]), (379, 1), TensorShape([163, 100, 1]), (163, 1))"
      ]
     },
     "execution_count": 6,
     "metadata": {},
     "output_type": "execute_result"
    }
   ],
   "source": [
    "X_train_new = data_preparation(X_train_new)\n",
    "X_test_new = data_preparation(X_test_new)\n",
    "X_train_new.shape, y_train_new.shape,X_test_new.shape, y_test_new.shape"
   ]
  },
  {
   "cell_type": "code",
   "execution_count": 7,
   "id": "69d5b15e-d4fb-4212-a36b-0a1a06e39386",
   "metadata": {},
   "outputs": [
    {
     "data": {
      "text/plain": [
       "(TensorShape([1253, 100, 1]), (1253, 1), TensorShape([524, 100, 1]), (524, 1))"
      ]
     },
     "execution_count": 7,
     "metadata": {},
     "output_type": "execute_result"
    }
   ],
   "source": [
    "X_train,y_train = data(\"varying_lum_and_focus_train\")\n",
    "X_test,y_test = data(\"varying_lum_and_focus_test\")\n",
    "X_train = data_preparation(X_train)\n",
    "X_test = data_preparation(X_test)\n",
    "X_train.shape,y_train.shape, X_test.shape,y_test.shape"
   ]
  },
  {
   "cell_type": "code",
   "execution_count": null,
   "id": "c8f1c20e-a0d1-4748-b88e-4ebbe58276e6",
   "metadata": {},
   "outputs": [],
   "source": [
    "import matplotlib.pyplot as plt\n",
    "plt.hist(y_train,label=\"Train\")\n",
    "plt.hist(y_test,label=\"Test\")\n",
    "plt.legend()\n",
    "plt.show()"
   ]
  },
  {
   "cell_type": "code",
   "execution_count": null,
   "id": "01069968-da4f-4168-acd7-2b5d2a5d0325",
   "metadata": {},
   "outputs": [],
   "source": [
    "X_train_combine = tf.concat([X_train,X_train_new], 0, name='X_train')\n",
    "X_test_combine = tf.concat([X_test,X_test_new], 0, name='X_test')\n",
    "y_train_combine = tf.concat([y_train,y_train_new], 0, name='y_train')\n",
    "y_test_combine = tf.concat([y_test,y_test_new], 0, name='y_test')"
   ]
  },
  {
   "cell_type": "code",
   "execution_count": null,
   "id": "14152c80-89f1-48ee-92ae-8838eddb19f3",
   "metadata": {},
   "outputs": [],
   "source": [
    "X_train_combine = data_preparation(X_train_combine)\n",
    "X_test_combine = data_preparation(X_test_combine)"
   ]
  },
  {
   "cell_type": "code",
   "execution_count": 9,
   "id": "8e7dea90-7a96-46ed-9fc1-e7e2ff4508ed",
   "metadata": {},
   "outputs": [],
   "source": [
    "callbacks = [\n",
    "    keras.callbacks.EarlyStopping(\n",
    "        # Stop training when `val_loss` is no longer improving\n",
    "        # \"no longer improving\" being defined as \"no better than 1e-3 less\"\n",
    "        # \"no longer improving\" being further defined as \"for at least 3 epochs\"\n",
    "        monitor=\"val_loss\",\n",
    "        min_delta=1e-3,\n",
    "        patience=3,\n",
    "        verbose=1),]"
   ]
  },
  {
   "cell_type": "code",
   "execution_count": null,
   "id": "0e0d6c72-1f01-40b1-8e6c-64fcf5e19e58",
   "metadata": {},
   "outputs": [],
   "source": [
    "tuner_BO = tuning_model(build_model_CNN, callbacks, \n",
    "                        X_train_new, y_train_new, X_test_new, y_test_new,\n",
    "                        model_type=\"BOB\", \n",
    "                        project=\"CNN_only_new_BO\")"
   ]
  },
  {
   "cell_type": "code",
   "execution_count": null,
   "id": "cf8d1e01-1ee4-4b8a-abb8-2332b5aa1f06",
   "metadata": {},
   "outputs": [],
   "source": [
    "tuner_BO = tuner_HB"
   ]
  },
  {
   "cell_type": "code",
   "execution_count": null,
   "id": "7d176891-f12c-4fa1-9377-3e7607149ac4",
   "metadata": {},
   "outputs": [],
   "source": [
    "tuner_BO = tuning_model(build_model_CNN, callbacks, \n",
    "                        X_train_new, y_train_new, X_test_new, y_test_new,\n",
    "                        model_type=\"BO\", \n",
    "                        project=\"CNN_only_new_BO\")\n",
    "best_model, best_model_hp, history = hp_model_output_information(tuner_BO,X_train_combine, y_train_combine, X_test_combine, y_test_combine)\n",
    "best_model.save(\"CNN_combine_BO_best_model\")"
   ]
  },
  {
   "cell_type": "code",
   "execution_count": 10,
   "id": "a98beda5-ad35-4b82-b0f9-adef498e2515",
   "metadata": {},
   "outputs": [],
   "source": [
    "X, y = data(\"vary_width\")\n",
    "X_train_new, X_test_new, y_train_new, y_test_new = train_test_split(X, y, test_size=0.3, random_state=42,shuffle=True)\n",
    "X_train_new = data_preparation(X_train_new)\n",
    "X_test_new = data_preparation(X_test_new)"
   ]
  },
  {
   "cell_type": "code",
   "execution_count": 22,
   "id": "cb9322d1-2612-41cb-9308-de312cce4b1e",
   "metadata": {},
   "outputs": [
    {
     "name": "stderr",
     "output_type": "stream",
     "text": [
      "WARNING:absl:Found untraced functions such as _jit_compiled_convolution_op, _jit_compiled_convolution_op, _jit_compiled_convolution_op, _update_step_xla while saving (showing 4 of 4). These functions will not be directly callable after loading.\n"
     ]
    },
    {
     "name": "stdout",
     "output_type": "stream",
     "text": [
      "INFO:tensorflow:Assets written to: CNN_only_new_dataset_BO/assets\n"
     ]
    },
    {
     "name": "stderr",
     "output_type": "stream",
     "text": [
      "INFO:tensorflow:Assets written to: CNN_only_new_dataset_BO/assets\n"
     ]
    }
   ],
   "source": [
    "best_model.save(\"CNN_only_new_dataset_BO\")"
   ]
  },
  {
   "cell_type": "code",
   "execution_count": 14,
   "id": "57bb1715-4600-4cae-a668-5a954a62349e",
   "metadata": {},
   "outputs": [
    {
     "data": {
      "text/plain": [
       "<keras_tuner.tuners.bayesian.BayesianOptimization at 0x7f830c36ca60>"
      ]
     },
     "execution_count": 14,
     "metadata": {},
     "output_type": "execute_result"
    }
   ],
   "source": []
  },
  {
   "cell_type": "code",
   "execution_count": null,
   "id": "1caaac31-46f7-4714-9c9f-866243eaae7c",
   "metadata": {},
   "outputs": [],
   "source": []
  }
 ],
 "metadata": {
  "kernelspec": {
   "display_name": "Python 3 (ipykernel)",
   "language": "python",
   "name": "python3"
  },
  "language_info": {
   "codemirror_mode": {
    "name": "ipython",
    "version": 3
   },
   "file_extension": ".py",
   "mimetype": "text/x-python",
   "name": "python",
   "nbconvert_exporter": "python",
   "pygments_lexer": "ipython3",
   "version": "3.8.10"
  }
 },
 "nbformat": 4,
 "nbformat_minor": 5
}
