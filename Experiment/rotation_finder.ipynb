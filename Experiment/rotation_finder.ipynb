{
 "cells": [
  {
   "cell_type": "markdown",
   "metadata": {},
   "source": [
    "***Rotation finder***"
   ]
  },
  {
   "cell_type": "code",
   "execution_count": 3,
   "metadata": {},
   "outputs": [
    {
     "data": {
      "text/plain": [
       "(array([[ 0.99974618,  0.02252963],\n",
       "        [-0.02252963,  0.99974618]]),\n",
       " array([-1310.81123275,   659.39205642]))"
      ]
     },
     "execution_count": 3,
     "metadata": {},
     "output_type": "execute_result"
    }
   ],
   "source": [
    "import numpy as np\n",
    "#Position in transport setup\n",
    "possdm1 = [[16420,26260],[17120, 28480],[18600,31760],[12060,28640],[24620, 44740],[23780, 41560],[22980, 39580]] #xy positions in the first referential\n",
    "#Position in the experiment object\n",
    "possd = [[15760, 26500],[16420, 28780],[17940,32040],[11380,29000],[24300,44820],[23440, 41660],[22560,39720]] #xy positions in the second referential\n",
    "listeA, listeB = possdm1,possd\n",
    "H = np.dot(\n",
    "    np.transpose(np.array(listeA) - np.mean(listeA, axis=0)),\n",
    "    np.array(listeB) - np.mean(listeB, axis=0),\n",
    ")\n",
    "U, S, V = np.linalg.svd(H)\n",
    "R = np.dot(V, np.transpose(U))\n",
    "t = np.mean(listeB, axis=0) - np.dot(R, np.mean(listeA, axis=0))\n",
    "R,t #the rotation and the translation"
   ]
  },
  {
   "cell_type": "code",
   "execution_count": 4,
   "metadata": {},
   "outputs": [
    {
     "data": {
      "text/plain": [
       "array([ 7120.00987752, 27676.30630299])"
      ]
     },
     "execution_count": 4,
     "metadata": {},
     "output_type": "execute_result"
    }
   ],
   "source": [
    "pos = [7820,27200] #To transform a posiion from the first referential\n",
    "np.dot(R,pos)+t"
   ]
  }
 ],
 "metadata": {
  "kernelspec": {
   "display_name": "Python 3 (ipykernel)",
   "language": "python",
   "name": "python3"
  },
  "language_info": {
   "codemirror_mode": {
    "name": "ipython",
    "version": 3
   },
   "file_extension": ".py",
   "mimetype": "text/x-python",
   "name": "python",
   "nbconvert_exporter": "python",
   "pygments_lexer": "ipython3",
   "version": "3.7.3"
  }
 },
 "nbformat": 4,
 "nbformat_minor": 4
}
